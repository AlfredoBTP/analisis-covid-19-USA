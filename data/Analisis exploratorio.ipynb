{
 "cells": [
  {
   "cell_type": "code",
   "execution_count": 19,
   "metadata": {},
   "outputs": [],
   "source": [
    "#Librerias\n",
    "import pandas as pd\n",
    "from sodapy import Socrata\n",
    "import plotly.express as px\n",
    "import plotly.offline as po\n",
    "import plotly.graph_objs as pg\n"
   ]
  },
  {
   "cell_type": "code",
   "execution_count": 20,
   "metadata": {},
   "outputs": [
    {
     "data": {
      "text/plain": [
       "'client = Socrata(\"healthdata.gov\", None)\\nresults = client.get(\"g62h-syeh\", limit=1000000)\\ndf = pd.DataFrame.from_records(results)'"
      ]
     },
     "execution_count": 20,
     "metadata": {},
     "output_type": "execute_result"
    }
   ],
   "source": [
    "\"\"\"client = Socrata(\"healthdata.gov\", None)\n",
    "results = client.get(\"g62h-syeh\", limit=1000000)\n",
    "df = pd.DataFrame.from_records(results)\"\"\""
   ]
  },
  {
   "cell_type": "code",
   "execution_count": 21,
   "metadata": {},
   "outputs": [],
   "source": [
    "df = pd.read_csv('df.csv')"
   ]
  },
  {
   "cell_type": "markdown",
   "metadata": {},
   "source": [
    "CONSIGNA 1"
   ]
  },
  {
   "cell_type": "code",
   "execution_count": 22,
   "metadata": {},
   "outputs": [
    {
     "name": "stderr",
     "output_type": "stream",
     "text": [
      "C:\\Users\\Alfredo BTP\\AppData\\Local\\Temp\\ipykernel_38404\\236499649.py:3: SettingWithCopyWarning:\n",
      "\n",
      "\n",
      "A value is trying to be set on a copy of a slice from a DataFrame\n",
      "\n",
      "See the caveats in the documentation: https://pandas.pydata.org/pandas-docs/stable/user_guide/indexing.html#returning-a-view-versus-a-copy\n",
      "\n",
      "C:\\Users\\Alfredo BTP\\AppData\\Local\\Temp\\ipykernel_38404\\236499649.py:4: SettingWithCopyWarning:\n",
      "\n",
      "\n",
      "A value is trying to be set on a copy of a slice from a DataFrame\n",
      "\n",
      "See the caveats in the documentation: https://pandas.pydata.org/pandas-docs/stable/user_guide/indexing.html#returning-a-view-versus-a-copy\n",
      "\n",
      "C:\\Users\\Alfredo BTP\\AppData\\Local\\Temp\\ipykernel_38404\\236499649.py:5: SettingWithCopyWarning:\n",
      "\n",
      "\n",
      "A value is trying to be set on a copy of a slice from a DataFrame\n",
      "\n",
      "See the caveats in the documentation: https://pandas.pydata.org/pandas-docs/stable/user_guide/indexing.html#returning-a-view-versus-a-copy\n",
      "\n",
      "C:\\Users\\Alfredo BTP\\AppData\\Local\\Temp\\ipykernel_38404\\236499649.py:6: SettingWithCopyWarning:\n",
      "\n",
      "\n",
      "A value is trying to be set on a copy of a slice from a DataFrame.\n",
      "Try using .loc[row_indexer,col_indexer] = value instead\n",
      "\n",
      "See the caveats in the documentation: https://pandas.pydata.org/pandas-docs/stable/user_guide/indexing.html#returning-a-view-versus-a-copy\n",
      "\n"
     ]
    },
    {
     "data": {
      "text/html": [
       "<div>\n",
       "<style scoped>\n",
       "    .dataframe tbody tr th:only-of-type {\n",
       "        vertical-align: middle;\n",
       "    }\n",
       "\n",
       "    .dataframe tbody tr th {\n",
       "        vertical-align: top;\n",
       "    }\n",
       "\n",
       "    .dataframe thead th {\n",
       "        text-align: right;\n",
       "    }\n",
       "</style>\n",
       "<table border=\"1\" class=\"dataframe\">\n",
       "  <thead>\n",
       "    <tr style=\"text-align: right;\">\n",
       "      <th></th>\n",
       "      <th>Total_confirmados</th>\n",
       "    </tr>\n",
       "    <tr>\n",
       "      <th>state</th>\n",
       "      <th></th>\n",
       "    </tr>\n",
       "  </thead>\n",
       "  <tbody>\n",
       "    <tr>\n",
       "      <th>LA</th>\n",
       "      <td>40452.0</td>\n",
       "    </tr>\n",
       "    <tr>\n",
       "      <th>CA</th>\n",
       "      <td>36134.0</td>\n",
       "    </tr>\n",
       "    <tr>\n",
       "      <th>NV</th>\n",
       "      <td>20134.0</td>\n",
       "    </tr>\n",
       "    <tr>\n",
       "      <th>AZ</th>\n",
       "      <td>5177.0</td>\n",
       "    </tr>\n",
       "    <tr>\n",
       "      <th>IA</th>\n",
       "      <td>3174.0</td>\n",
       "    </tr>\n",
       "  </tbody>\n",
       "</table>\n",
       "</div>"
      ],
      "text/plain": [
       "       Total_confirmados\n",
       "state                   \n",
       "LA               40452.0\n",
       "CA               36134.0\n",
       "NV               20134.0\n",
       "AZ                5177.0\n",
       "IA                3174.0"
      ]
     },
     "execution_count": 22,
     "metadata": {},
     "output_type": "execute_result"
    }
   ],
   "source": [
    "#Filtre por fecha, sustitui valores faltantes por 0 e hice cast a las columnas para sumalas\n",
    "seis_meses = df[(df['date'] >='2020-01-01T00:00:00.000' )&(df['date'] <='2020-06-30T00:00:00.000')]\n",
    "seis_meses.rename(columns={'total_pediatric_patients_hospitalized_confirmed_covid':'Total_confirmados_pediatricos','total_adult_patients_hospitalized_confirmed_covid':'Total_confirmados_adultos'}, inplace=True)\n",
    "seis_meses['Total_confirmados_pediatricos'].fillna(0,inplace=True)\n",
    "seis_meses['Total_confirmados_adultos'].fillna(0,inplace=True)\n",
    "seis_meses['Total_confirmados'] = seis_meses['Total_confirmados_pediatricos']+ seis_meses['Total_confirmados_adultos']\n",
    "#Agrupe por estado y sumo los totales de csasos confirmados\n",
    "estados =seis_meses.groupby(['state'])[['Total_confirmados']].sum()\n",
    "top_5 = estados.sort_values('Total_confirmados', ascending=False).head()\n",
    "top_5"
   ]
  },
  {
   "cell_type": "markdown",
   "metadata": {},
   "source": [
    "Consigna 2"
   ]
  },
  {
   "cell_type": "code",
   "execution_count": 23,
   "metadata": {},
   "outputs": [
    {
     "data": {
      "application/vnd.plotly.v1+json": {
       "config": {
        "plotlyServerURL": "https://plot.ly"
       },
       "data": [
        {
         "hovertemplate": "x=%{x}<br>y=%{y}<extra></extra>",
         "legendgroup": "",
         "line": {
          "color": "#636efa",
          "dash": "solid"
         },
         "marker": {
          "symbol": "circle"
         },
         "mode": "lines",
         "name": "",
         "orientation": "v",
         "showlegend": false,
         "type": "scatter",
         "x": [
          "2020-03-22T00:00:00.000",
          "2020-03-23T00:00:00.000",
          "2020-03-24T00:00:00.000",
          "2020-03-25T00:00:00.000",
          "2020-03-26T00:00:00.000",
          "2020-03-27T00:00:00.000",
          "2020-03-28T00:00:00.000",
          "2020-03-29T00:00:00.000",
          "2020-03-30T00:00:00.000",
          "2020-03-31T00:00:00.000",
          "2020-04-01T00:00:00.000",
          "2020-04-02T00:00:00.000",
          "2020-04-03T00:00:00.000",
          "2020-04-04T00:00:00.000",
          "2020-04-05T00:00:00.000",
          "2020-04-06T00:00:00.000",
          "2020-04-07T00:00:00.000",
          "2020-04-08T00:00:00.000",
          "2020-04-09T00:00:00.000",
          "2020-04-10T00:00:00.000",
          "2020-04-11T00:00:00.000",
          "2020-04-12T00:00:00.000",
          "2020-04-13T00:00:00.000",
          "2020-04-14T00:00:00.000",
          "2020-04-15T00:00:00.000",
          "2020-04-16T00:00:00.000",
          "2020-04-17T00:00:00.000",
          "2020-04-18T00:00:00.000",
          "2020-04-19T00:00:00.000",
          "2020-04-20T00:00:00.000",
          "2020-04-21T00:00:00.000",
          "2020-04-22T00:00:00.000",
          "2020-04-23T00:00:00.000",
          "2020-04-24T00:00:00.000",
          "2020-04-25T00:00:00.000",
          "2020-04-26T00:00:00.000",
          "2020-04-27T00:00:00.000",
          "2020-04-28T00:00:00.000",
          "2020-04-29T00:00:00.000",
          "2020-04-30T00:00:00.000",
          "2020-05-01T00:00:00.000",
          "2020-05-02T00:00:00.000",
          "2020-05-03T00:00:00.000",
          "2020-05-04T00:00:00.000",
          "2020-05-05T00:00:00.000",
          "2020-05-06T00:00:00.000",
          "2020-05-07T00:00:00.000",
          "2020-05-08T00:00:00.000",
          "2020-05-09T00:00:00.000",
          "2020-05-10T00:00:00.000",
          "2020-05-11T00:00:00.000",
          "2020-05-12T00:00:00.000",
          "2020-05-13T00:00:00.000",
          "2020-05-14T00:00:00.000",
          "2020-05-15T00:00:00.000",
          "2020-05-16T00:00:00.000",
          "2020-05-17T00:00:00.000",
          "2020-05-18T00:00:00.000",
          "2020-05-19T00:00:00.000",
          "2020-05-20T00:00:00.000",
          "2020-05-21T00:00:00.000",
          "2020-05-22T00:00:00.000",
          "2020-05-23T00:00:00.000",
          "2020-05-24T00:00:00.000",
          "2020-05-25T00:00:00.000",
          "2020-05-26T00:00:00.000",
          "2020-05-27T00:00:00.000",
          "2020-05-28T00:00:00.000",
          "2020-05-29T00:00:00.000",
          "2020-05-30T00:00:00.000",
          "2020-05-31T00:00:00.000",
          "2020-06-01T00:00:00.000",
          "2020-06-02T00:00:00.000",
          "2020-06-03T00:00:00.000",
          "2020-06-04T00:00:00.000",
          "2020-06-05T00:00:00.000",
          "2020-06-06T00:00:00.000",
          "2020-06-07T00:00:00.000",
          "2020-06-08T00:00:00.000",
          "2020-06-09T00:00:00.000",
          "2020-06-10T00:00:00.000",
          "2020-06-11T00:00:00.000",
          "2020-06-12T00:00:00.000",
          "2020-06-13T00:00:00.000"
         ],
         "xaxis": "x",
         "y": [
          324,
          417,
          554,
          843,
          992,
          1205,
          1294,
          1630,
          5007,
          10251,
          11029,
          12278,
          12637,
          13107,
          12363,
          12711,
          12611,
          12787,
          13009,
          13369,
          13361,
          13443,
          13909,
          14126,
          14067,
          13419,
          13038,
          12838,
          12496,
          12507,
          12335,
          13005,
          12461,
          12009,
          11657,
          11453,
          11037,
          10736,
          10137,
          9662,
          9229,
          8802,
          8648,
          8591,
          8434,
          7942,
          7469,
          7049,
          6798,
          6674,
          6763,
          8237,
          8040,
          7875,
          7758,
          7580,
          5966,
          6110,
          5781,
          5580,
          5308,
          5056,
          4746,
          4659,
          4690,
          4708,
          4516,
          4172,
          4036,
          3939,
          3903,
          3836,
          3805,
          3970,
          4261,
          4166,
          3989,
          3720,
          3363,
          3001,
          2835,
          2772,
          2638,
          2530
         ],
         "yaxis": "y"
        }
       ],
       "layout": {
        "height": 600,
        "legend": {
         "tracegroupgap": 0
        },
        "template": {
         "data": {
          "bar": [
           {
            "error_x": {
             "color": "#2a3f5f"
            },
            "error_y": {
             "color": "#2a3f5f"
            },
            "marker": {
             "line": {
              "color": "#E5ECF6",
              "width": 0.5
             },
             "pattern": {
              "fillmode": "overlay",
              "size": 10,
              "solidity": 0.2
             }
            },
            "type": "bar"
           }
          ],
          "barpolar": [
           {
            "marker": {
             "line": {
              "color": "#E5ECF6",
              "width": 0.5
             },
             "pattern": {
              "fillmode": "overlay",
              "size": 10,
              "solidity": 0.2
             }
            },
            "type": "barpolar"
           }
          ],
          "carpet": [
           {
            "aaxis": {
             "endlinecolor": "#2a3f5f",
             "gridcolor": "white",
             "linecolor": "white",
             "minorgridcolor": "white",
             "startlinecolor": "#2a3f5f"
            },
            "baxis": {
             "endlinecolor": "#2a3f5f",
             "gridcolor": "white",
             "linecolor": "white",
             "minorgridcolor": "white",
             "startlinecolor": "#2a3f5f"
            },
            "type": "carpet"
           }
          ],
          "choropleth": [
           {
            "colorbar": {
             "outlinewidth": 0,
             "ticks": ""
            },
            "type": "choropleth"
           }
          ],
          "contour": [
           {
            "colorbar": {
             "outlinewidth": 0,
             "ticks": ""
            },
            "colorscale": [
             [
              0,
              "#0d0887"
             ],
             [
              0.1111111111111111,
              "#46039f"
             ],
             [
              0.2222222222222222,
              "#7201a8"
             ],
             [
              0.3333333333333333,
              "#9c179e"
             ],
             [
              0.4444444444444444,
              "#bd3786"
             ],
             [
              0.5555555555555556,
              "#d8576b"
             ],
             [
              0.6666666666666666,
              "#ed7953"
             ],
             [
              0.7777777777777778,
              "#fb9f3a"
             ],
             [
              0.8888888888888888,
              "#fdca26"
             ],
             [
              1,
              "#f0f921"
             ]
            ],
            "type": "contour"
           }
          ],
          "contourcarpet": [
           {
            "colorbar": {
             "outlinewidth": 0,
             "ticks": ""
            },
            "type": "contourcarpet"
           }
          ],
          "heatmap": [
           {
            "colorbar": {
             "outlinewidth": 0,
             "ticks": ""
            },
            "colorscale": [
             [
              0,
              "#0d0887"
             ],
             [
              0.1111111111111111,
              "#46039f"
             ],
             [
              0.2222222222222222,
              "#7201a8"
             ],
             [
              0.3333333333333333,
              "#9c179e"
             ],
             [
              0.4444444444444444,
              "#bd3786"
             ],
             [
              0.5555555555555556,
              "#d8576b"
             ],
             [
              0.6666666666666666,
              "#ed7953"
             ],
             [
              0.7777777777777778,
              "#fb9f3a"
             ],
             [
              0.8888888888888888,
              "#fdca26"
             ],
             [
              1,
              "#f0f921"
             ]
            ],
            "type": "heatmap"
           }
          ],
          "heatmapgl": [
           {
            "colorbar": {
             "outlinewidth": 0,
             "ticks": ""
            },
            "colorscale": [
             [
              0,
              "#0d0887"
             ],
             [
              0.1111111111111111,
              "#46039f"
             ],
             [
              0.2222222222222222,
              "#7201a8"
             ],
             [
              0.3333333333333333,
              "#9c179e"
             ],
             [
              0.4444444444444444,
              "#bd3786"
             ],
             [
              0.5555555555555556,
              "#d8576b"
             ],
             [
              0.6666666666666666,
              "#ed7953"
             ],
             [
              0.7777777777777778,
              "#fb9f3a"
             ],
             [
              0.8888888888888888,
              "#fdca26"
             ],
             [
              1,
              "#f0f921"
             ]
            ],
            "type": "heatmapgl"
           }
          ],
          "histogram": [
           {
            "marker": {
             "pattern": {
              "fillmode": "overlay",
              "size": 10,
              "solidity": 0.2
             }
            },
            "type": "histogram"
           }
          ],
          "histogram2d": [
           {
            "colorbar": {
             "outlinewidth": 0,
             "ticks": ""
            },
            "colorscale": [
             [
              0,
              "#0d0887"
             ],
             [
              0.1111111111111111,
              "#46039f"
             ],
             [
              0.2222222222222222,
              "#7201a8"
             ],
             [
              0.3333333333333333,
              "#9c179e"
             ],
             [
              0.4444444444444444,
              "#bd3786"
             ],
             [
              0.5555555555555556,
              "#d8576b"
             ],
             [
              0.6666666666666666,
              "#ed7953"
             ],
             [
              0.7777777777777778,
              "#fb9f3a"
             ],
             [
              0.8888888888888888,
              "#fdca26"
             ],
             [
              1,
              "#f0f921"
             ]
            ],
            "type": "histogram2d"
           }
          ],
          "histogram2dcontour": [
           {
            "colorbar": {
             "outlinewidth": 0,
             "ticks": ""
            },
            "colorscale": [
             [
              0,
              "#0d0887"
             ],
             [
              0.1111111111111111,
              "#46039f"
             ],
             [
              0.2222222222222222,
              "#7201a8"
             ],
             [
              0.3333333333333333,
              "#9c179e"
             ],
             [
              0.4444444444444444,
              "#bd3786"
             ],
             [
              0.5555555555555556,
              "#d8576b"
             ],
             [
              0.6666666666666666,
              "#ed7953"
             ],
             [
              0.7777777777777778,
              "#fb9f3a"
             ],
             [
              0.8888888888888888,
              "#fdca26"
             ],
             [
              1,
              "#f0f921"
             ]
            ],
            "type": "histogram2dcontour"
           }
          ],
          "mesh3d": [
           {
            "colorbar": {
             "outlinewidth": 0,
             "ticks": ""
            },
            "type": "mesh3d"
           }
          ],
          "parcoords": [
           {
            "line": {
             "colorbar": {
              "outlinewidth": 0,
              "ticks": ""
             }
            },
            "type": "parcoords"
           }
          ],
          "pie": [
           {
            "automargin": true,
            "type": "pie"
           }
          ],
          "scatter": [
           {
            "fillpattern": {
             "fillmode": "overlay",
             "size": 10,
             "solidity": 0.2
            },
            "type": "scatter"
           }
          ],
          "scatter3d": [
           {
            "line": {
             "colorbar": {
              "outlinewidth": 0,
              "ticks": ""
             }
            },
            "marker": {
             "colorbar": {
              "outlinewidth": 0,
              "ticks": ""
             }
            },
            "type": "scatter3d"
           }
          ],
          "scattercarpet": [
           {
            "marker": {
             "colorbar": {
              "outlinewidth": 0,
              "ticks": ""
             }
            },
            "type": "scattercarpet"
           }
          ],
          "scattergeo": [
           {
            "marker": {
             "colorbar": {
              "outlinewidth": 0,
              "ticks": ""
             }
            },
            "type": "scattergeo"
           }
          ],
          "scattergl": [
           {
            "marker": {
             "colorbar": {
              "outlinewidth": 0,
              "ticks": ""
             }
            },
            "type": "scattergl"
           }
          ],
          "scattermapbox": [
           {
            "marker": {
             "colorbar": {
              "outlinewidth": 0,
              "ticks": ""
             }
            },
            "type": "scattermapbox"
           }
          ],
          "scatterpolar": [
           {
            "marker": {
             "colorbar": {
              "outlinewidth": 0,
              "ticks": ""
             }
            },
            "type": "scatterpolar"
           }
          ],
          "scatterpolargl": [
           {
            "marker": {
             "colorbar": {
              "outlinewidth": 0,
              "ticks": ""
             }
            },
            "type": "scatterpolargl"
           }
          ],
          "scatterternary": [
           {
            "marker": {
             "colorbar": {
              "outlinewidth": 0,
              "ticks": ""
             }
            },
            "type": "scatterternary"
           }
          ],
          "surface": [
           {
            "colorbar": {
             "outlinewidth": 0,
             "ticks": ""
            },
            "colorscale": [
             [
              0,
              "#0d0887"
             ],
             [
              0.1111111111111111,
              "#46039f"
             ],
             [
              0.2222222222222222,
              "#7201a8"
             ],
             [
              0.3333333333333333,
              "#9c179e"
             ],
             [
              0.4444444444444444,
              "#bd3786"
             ],
             [
              0.5555555555555556,
              "#d8576b"
             ],
             [
              0.6666666666666666,
              "#ed7953"
             ],
             [
              0.7777777777777778,
              "#fb9f3a"
             ],
             [
              0.8888888888888888,
              "#fdca26"
             ],
             [
              1,
              "#f0f921"
             ]
            ],
            "type": "surface"
           }
          ],
          "table": [
           {
            "cells": {
             "fill": {
              "color": "#EBF0F8"
             },
             "line": {
              "color": "white"
             }
            },
            "header": {
             "fill": {
              "color": "#C8D4E3"
             },
             "line": {
              "color": "white"
             }
            },
            "type": "table"
           }
          ]
         },
         "layout": {
          "annotationdefaults": {
           "arrowcolor": "#2a3f5f",
           "arrowhead": 0,
           "arrowwidth": 1
          },
          "autotypenumbers": "strict",
          "coloraxis": {
           "colorbar": {
            "outlinewidth": 0,
            "ticks": ""
           }
          },
          "colorscale": {
           "diverging": [
            [
             0,
             "#8e0152"
            ],
            [
             0.1,
             "#c51b7d"
            ],
            [
             0.2,
             "#de77ae"
            ],
            [
             0.3,
             "#f1b6da"
            ],
            [
             0.4,
             "#fde0ef"
            ],
            [
             0.5,
             "#f7f7f7"
            ],
            [
             0.6,
             "#e6f5d0"
            ],
            [
             0.7,
             "#b8e186"
            ],
            [
             0.8,
             "#7fbc41"
            ],
            [
             0.9,
             "#4d9221"
            ],
            [
             1,
             "#276419"
            ]
           ],
           "sequential": [
            [
             0,
             "#0d0887"
            ],
            [
             0.1111111111111111,
             "#46039f"
            ],
            [
             0.2222222222222222,
             "#7201a8"
            ],
            [
             0.3333333333333333,
             "#9c179e"
            ],
            [
             0.4444444444444444,
             "#bd3786"
            ],
            [
             0.5555555555555556,
             "#d8576b"
            ],
            [
             0.6666666666666666,
             "#ed7953"
            ],
            [
             0.7777777777777778,
             "#fb9f3a"
            ],
            [
             0.8888888888888888,
             "#fdca26"
            ],
            [
             1,
             "#f0f921"
            ]
           ],
           "sequentialminus": [
            [
             0,
             "#0d0887"
            ],
            [
             0.1111111111111111,
             "#46039f"
            ],
            [
             0.2222222222222222,
             "#7201a8"
            ],
            [
             0.3333333333333333,
             "#9c179e"
            ],
            [
             0.4444444444444444,
             "#bd3786"
            ],
            [
             0.5555555555555556,
             "#d8576b"
            ],
            [
             0.6666666666666666,
             "#ed7953"
            ],
            [
             0.7777777777777778,
             "#fb9f3a"
            ],
            [
             0.8888888888888888,
             "#fdca26"
            ],
            [
             1,
             "#f0f921"
            ]
           ]
          },
          "colorway": [
           "#636efa",
           "#EF553B",
           "#00cc96",
           "#ab63fa",
           "#FFA15A",
           "#19d3f3",
           "#FF6692",
           "#B6E880",
           "#FF97FF",
           "#FECB52"
          ],
          "font": {
           "color": "#2a3f5f"
          },
          "geo": {
           "bgcolor": "white",
           "lakecolor": "white",
           "landcolor": "#E5ECF6",
           "showlakes": true,
           "showland": true,
           "subunitcolor": "white"
          },
          "hoverlabel": {
           "align": "left"
          },
          "hovermode": "closest",
          "mapbox": {
           "style": "light"
          },
          "paper_bgcolor": "white",
          "plot_bgcolor": "#E5ECF6",
          "polar": {
           "angularaxis": {
            "gridcolor": "white",
            "linecolor": "white",
            "ticks": ""
           },
           "bgcolor": "#E5ECF6",
           "radialaxis": {
            "gridcolor": "white",
            "linecolor": "white",
            "ticks": ""
           }
          },
          "scene": {
           "xaxis": {
            "backgroundcolor": "#E5ECF6",
            "gridcolor": "white",
            "gridwidth": 2,
            "linecolor": "white",
            "showbackground": true,
            "ticks": "",
            "zerolinecolor": "white"
           },
           "yaxis": {
            "backgroundcolor": "#E5ECF6",
            "gridcolor": "white",
            "gridwidth": 2,
            "linecolor": "white",
            "showbackground": true,
            "ticks": "",
            "zerolinecolor": "white"
           },
           "zaxis": {
            "backgroundcolor": "#E5ECF6",
            "gridcolor": "white",
            "gridwidth": 2,
            "linecolor": "white",
            "showbackground": true,
            "ticks": "",
            "zerolinecolor": "white"
           }
          },
          "shapedefaults": {
           "line": {
            "color": "#2a3f5f"
           }
          },
          "ternary": {
           "aaxis": {
            "gridcolor": "white",
            "linecolor": "white",
            "ticks": ""
           },
           "baxis": {
            "gridcolor": "white",
            "linecolor": "white",
            "ticks": ""
           },
           "bgcolor": "#E5ECF6",
           "caxis": {
            "gridcolor": "white",
            "linecolor": "white",
            "ticks": ""
           }
          },
          "title": {
           "x": 0.05
          },
          "xaxis": {
           "automargin": true,
           "gridcolor": "white",
           "linecolor": "white",
           "ticks": "",
           "title": {
            "standoff": 15
           },
           "zerolinecolor": "white",
           "zerolinewidth": 2
          },
          "yaxis": {
           "automargin": true,
           "gridcolor": "white",
           "linecolor": "white",
           "ticks": "",
           "title": {
            "standoff": 15
           },
           "zerolinecolor": "white",
           "zerolinewidth": 2
          }
         }
        },
        "title": {
         "text": "Camas ocupadas por pacientes covid en Nueva York"
        },
        "width": 800,
        "xaxis": {
         "anchor": "y",
         "domain": [
          0,
          1
         ],
         "title": {
          "text": "x"
         }
        },
        "yaxis": {
         "anchor": "x",
         "domain": [
          0,
          1
         ],
         "title": {
          "text": "y"
         }
        }
       }
      }
     },
     "metadata": {},
     "output_type": "display_data"
    }
   ],
   "source": [
    "df_ny = df[df['state']== 'NY']\n",
    "df_ny =df_ny [(df_ny['date'] >='2020-03-22T00:00:00.000' ) &  (df_ny['date'] <='2020-06-13T00:00:00.000')]\n",
    "df_ny.rename(columns={'date':'Fecha','inpatient_beds_used_covid':'Camas_ocupadas_covid' }, inplace=True)\n",
    "df_ny['Camas_ocupadas_covid'].fillna(0,inplace= True)\n",
    "df_ny2 =df_ny[['Fecha','Camas_ocupadas_covid']]\n",
    "df_ny2 = df_ny2.sort_values('Fecha')\n",
    "labels= df_ny2['Fecha']\n",
    "values= df_ny2['Camas_ocupadas_covid']\n",
    "fig = px.line(x= labels, y = values, width=800, height=600, title='Camas ocupadas por pacientes covid en Nueva York')\n",
    "fig.show()"
   ]
  },
  {
   "cell_type": "markdown",
   "metadata": {},
   "source": [
    "En el gráfico podemos observar un periodo largo de crecimiento a finales de marzo hasta el 13 de abril que es cuando comienza a decrecer gracas a cque comienza a surtir efecto la implementación de la cuarentena."
   ]
  },
  {
   "cell_type": "markdown",
   "metadata": {},
   "source": [
    "Consigna 3"
   ]
  },
  {
   "cell_type": "code",
   "execution_count": 24,
   "metadata": {},
   "outputs": [
    {
     "name": "stderr",
     "output_type": "stream",
     "text": [
      "C:\\Users\\Alfredo BTP\\AppData\\Local\\Temp\\ipykernel_38404\\3408433219.py:3: SettingWithCopyWarning:\n",
      "\n",
      "\n",
      "A value is trying to be set on a copy of a slice from a DataFrame\n",
      "\n",
      "See the caveats in the documentation: https://pandas.pydata.org/pandas-docs/stable/user_guide/indexing.html#returning-a-view-versus-a-copy\n",
      "\n",
      "C:\\Users\\Alfredo BTP\\AppData\\Local\\Temp\\ipykernel_38404\\3408433219.py:4: SettingWithCopyWarning:\n",
      "\n",
      "\n",
      "A value is trying to be set on a copy of a slice from a DataFrame\n",
      "\n",
      "See the caveats in the documentation: https://pandas.pydata.org/pandas-docs/stable/user_guide/indexing.html#returning-a-view-versus-a-copy\n",
      "\n",
      "C:\\Users\\Alfredo BTP\\AppData\\Local\\Temp\\ipykernel_38404\\3408433219.py:6: SettingWithCopyWarning:\n",
      "\n",
      "\n",
      "A value is trying to be set on a copy of a slice from a DataFrame\n",
      "\n",
      "See the caveats in the documentation: https://pandas.pydata.org/pandas-docs/stable/user_guide/indexing.html#returning-a-view-versus-a-copy\n",
      "\n",
      "C:\\Users\\Alfredo BTP\\AppData\\Local\\Temp\\ipykernel_38404\\3408433219.py:8: SettingWithCopyWarning:\n",
      "\n",
      "\n",
      "A value is trying to be set on a copy of a slice from a DataFrame.\n",
      "Try using .loc[row_indexer,col_indexer] = value instead\n",
      "\n",
      "See the caveats in the documentation: https://pandas.pydata.org/pandas-docs/stable/user_guide/indexing.html#returning-a-view-versus-a-copy\n",
      "\n"
     ]
    },
    {
     "data": {
      "text/html": [
       "<div>\n",
       "<style scoped>\n",
       "    .dataframe tbody tr th:only-of-type {\n",
       "        vertical-align: middle;\n",
       "    }\n",
       "\n",
       "    .dataframe tbody tr th {\n",
       "        vertical-align: top;\n",
       "    }\n",
       "\n",
       "    .dataframe thead th {\n",
       "        text-align: right;\n",
       "    }\n",
       "</style>\n",
       "<table border=\"1\" class=\"dataframe\">\n",
       "  <thead>\n",
       "    <tr style=\"text-align: right;\">\n",
       "      <th></th>\n",
       "      <th>Total_confirmados</th>\n",
       "    </tr>\n",
       "    <tr>\n",
       "      <th>state</th>\n",
       "      <th></th>\n",
       "    </tr>\n",
       "  </thead>\n",
       "  <tbody>\n",
       "    <tr>\n",
       "      <th>TX</th>\n",
       "      <td>336158.0</td>\n",
       "    </tr>\n",
       "    <tr>\n",
       "      <th>CA</th>\n",
       "      <td>261854.0</td>\n",
       "    </tr>\n",
       "    <tr>\n",
       "      <th>FL</th>\n",
       "      <td>176144.0</td>\n",
       "    </tr>\n",
       "    <tr>\n",
       "      <th>GA</th>\n",
       "      <td>96114.0</td>\n",
       "    </tr>\n",
       "    <tr>\n",
       "      <th>OH</th>\n",
       "      <td>89686.0</td>\n",
       "    </tr>\n",
       "  </tbody>\n",
       "</table>\n",
       "</div>"
      ],
      "text/plain": [
       "       Total_confirmados\n",
       "state                   \n",
       "TX              336158.0\n",
       "CA              261854.0\n",
       "FL              176144.0\n",
       "GA               96114.0\n",
       "OH               89686.0"
      ]
     },
     "execution_count": 24,
     "metadata": {},
     "output_type": "execute_result"
    }
   ],
   "source": [
    "#Filtre por fecha, sustitui valores faltantes por 0 e hice cast a las columnas para sumalas\t\n",
    "df_año = df[(df['date'] >='2020-01-01T00:00:00.000' )&(df['date'] <='2020-12-31T00:00:00.000')]\n",
    "df_año.rename(columns={'staffed_icu_adult_patients_confirmed_covid':'Total_confirmados_adultos_ICU','staffed_icu_pediatric_patients_confirmed_covid':'Total_confirmados_pediatricos_ICU'}, inplace=True)\n",
    "df_año['Total_confirmados_pediatricos_ICU'].fillna(0,inplace=True)\n",
    "df_año['Total_confirmados_pediatricos_ICU'].astype(float)\n",
    "df_año['Total_confirmados_adultos_ICU'].fillna(0, inplace=True)\n",
    "df_año['Total_confirmados_adultos_ICU'].astype(float)\n",
    "df_año['Total_confirmados'] = df_año['Total_confirmados_pediatricos_ICU']+ df_año['Total_confirmados_adultos_ICU']\n",
    "estados =df_año.groupby(['state'])[['Total_confirmados']].sum()\n",
    "estados.sort_values('Total_confirmados', ascending=False).head()\n"
   ]
  },
  {
   "cell_type": "markdown",
   "metadata": {},
   "source": [
    "Consigna 4"
   ]
  },
  {
   "cell_type": "code",
   "execution_count": 25,
   "metadata": {},
   "outputs": [
    {
     "name": "stderr",
     "output_type": "stream",
     "text": [
      "C:\\Users\\Alfredo BTP\\AppData\\Local\\Temp\\ipykernel_38404\\1032886952.py:1: SettingWithCopyWarning:\n",
      "\n",
      "\n",
      "A value is trying to be set on a copy of a slice from a DataFrame\n",
      "\n",
      "See the caveats in the documentation: https://pandas.pydata.org/pandas-docs/stable/user_guide/indexing.html#returning-a-view-versus-a-copy\n",
      "\n",
      "C:\\Users\\Alfredo BTP\\AppData\\Local\\Temp\\ipykernel_38404\\1032886952.py:2: SettingWithCopyWarning:\n",
      "\n",
      "\n",
      "A value is trying to be set on a copy of a slice from a DataFrame\n",
      "\n",
      "See the caveats in the documentation: https://pandas.pydata.org/pandas-docs/stable/user_guide/indexing.html#returning-a-view-versus-a-copy\n",
      "\n"
     ]
    },
    {
     "data": {
      "application/vnd.plotly.v1+json": {
       "config": {
        "plotlyServerURL": "https://plot.ly"
       },
       "data": [
        {
         "alignmentgroup": "True",
         "hovertemplate": "x=%{x}<br>y=%{y}<extra></extra>",
         "legendgroup": "",
         "marker": {
          "color": "#636efa",
          "pattern": {
           "shape": ""
          }
         },
         "name": "",
         "offsetgroup": "",
         "orientation": "v",
         "showlegend": false,
         "textposition": "auto",
         "type": "bar",
         "x": [
          "AK",
          "AL",
          "AR",
          "AZ",
          "CA",
          "CO",
          "CT",
          "DC",
          "DE",
          "FL",
          "GA",
          "HI",
          "IA",
          "ID",
          "IL",
          "IN",
          "KS",
          "KY",
          "LA",
          "MA",
          "MD",
          "ME",
          "MI",
          "MN",
          "MO",
          "MS",
          "MT",
          "NC",
          "ND",
          "NE",
          "NH",
          "NJ",
          "NM",
          "NV",
          "NY",
          "OH",
          "OK",
          "OR",
          "PA",
          "PR",
          "RI",
          "SC",
          "SD",
          "TN",
          "TX",
          "UT",
          "VA",
          "VI",
          "VT",
          "WA",
          "WI",
          "WV",
          "WY"
         ],
         "xaxis": "x",
         "y": [
          351,
          2940,
          1654,
          5843,
          9981,
          3249,
          598,
          934,
          538,
          7382,
          5100,
          98,
          704,
          550,
          5259,
          1465,
          631,
          1206,
          745,
          1288,
          1126,
          94,
          1724,
          2027,
          2890,
          976,
          314,
          2225,
          404,
          2020,
          130,
          1981,
          469,
          1126,
          5005,
          3138,
          3399,
          511,
          5634,
          997,
          1111,
          1136,
          1731,
          3819,
          12419,
          978,
          1704,
          3,
          3,
          868,
          611,
          963,
          62
         ],
         "yaxis": "y"
        }
       ],
       "layout": {
        "barmode": "relative",
        "height": 600,
        "legend": {
         "tracegroupgap": 0
        },
        "template": {
         "data": {
          "bar": [
           {
            "error_x": {
             "color": "#2a3f5f"
            },
            "error_y": {
             "color": "#2a3f5f"
            },
            "marker": {
             "line": {
              "color": "#E5ECF6",
              "width": 0.5
             },
             "pattern": {
              "fillmode": "overlay",
              "size": 10,
              "solidity": 0.2
             }
            },
            "type": "bar"
           }
          ],
          "barpolar": [
           {
            "marker": {
             "line": {
              "color": "#E5ECF6",
              "width": 0.5
             },
             "pattern": {
              "fillmode": "overlay",
              "size": 10,
              "solidity": 0.2
             }
            },
            "type": "barpolar"
           }
          ],
          "carpet": [
           {
            "aaxis": {
             "endlinecolor": "#2a3f5f",
             "gridcolor": "white",
             "linecolor": "white",
             "minorgridcolor": "white",
             "startlinecolor": "#2a3f5f"
            },
            "baxis": {
             "endlinecolor": "#2a3f5f",
             "gridcolor": "white",
             "linecolor": "white",
             "minorgridcolor": "white",
             "startlinecolor": "#2a3f5f"
            },
            "type": "carpet"
           }
          ],
          "choropleth": [
           {
            "colorbar": {
             "outlinewidth": 0,
             "ticks": ""
            },
            "type": "choropleth"
           }
          ],
          "contour": [
           {
            "colorbar": {
             "outlinewidth": 0,
             "ticks": ""
            },
            "colorscale": [
             [
              0,
              "#0d0887"
             ],
             [
              0.1111111111111111,
              "#46039f"
             ],
             [
              0.2222222222222222,
              "#7201a8"
             ],
             [
              0.3333333333333333,
              "#9c179e"
             ],
             [
              0.4444444444444444,
              "#bd3786"
             ],
             [
              0.5555555555555556,
              "#d8576b"
             ],
             [
              0.6666666666666666,
              "#ed7953"
             ],
             [
              0.7777777777777778,
              "#fb9f3a"
             ],
             [
              0.8888888888888888,
              "#fdca26"
             ],
             [
              1,
              "#f0f921"
             ]
            ],
            "type": "contour"
           }
          ],
          "contourcarpet": [
           {
            "colorbar": {
             "outlinewidth": 0,
             "ticks": ""
            },
            "type": "contourcarpet"
           }
          ],
          "heatmap": [
           {
            "colorbar": {
             "outlinewidth": 0,
             "ticks": ""
            },
            "colorscale": [
             [
              0,
              "#0d0887"
             ],
             [
              0.1111111111111111,
              "#46039f"
             ],
             [
              0.2222222222222222,
              "#7201a8"
             ],
             [
              0.3333333333333333,
              "#9c179e"
             ],
             [
              0.4444444444444444,
              "#bd3786"
             ],
             [
              0.5555555555555556,
              "#d8576b"
             ],
             [
              0.6666666666666666,
              "#ed7953"
             ],
             [
              0.7777777777777778,
              "#fb9f3a"
             ],
             [
              0.8888888888888888,
              "#fdca26"
             ],
             [
              1,
              "#f0f921"
             ]
            ],
            "type": "heatmap"
           }
          ],
          "heatmapgl": [
           {
            "colorbar": {
             "outlinewidth": 0,
             "ticks": ""
            },
            "colorscale": [
             [
              0,
              "#0d0887"
             ],
             [
              0.1111111111111111,
              "#46039f"
             ],
             [
              0.2222222222222222,
              "#7201a8"
             ],
             [
              0.3333333333333333,
              "#9c179e"
             ],
             [
              0.4444444444444444,
              "#bd3786"
             ],
             [
              0.5555555555555556,
              "#d8576b"
             ],
             [
              0.6666666666666666,
              "#ed7953"
             ],
             [
              0.7777777777777778,
              "#fb9f3a"
             ],
             [
              0.8888888888888888,
              "#fdca26"
             ],
             [
              1,
              "#f0f921"
             ]
            ],
            "type": "heatmapgl"
           }
          ],
          "histogram": [
           {
            "marker": {
             "pattern": {
              "fillmode": "overlay",
              "size": 10,
              "solidity": 0.2
             }
            },
            "type": "histogram"
           }
          ],
          "histogram2d": [
           {
            "colorbar": {
             "outlinewidth": 0,
             "ticks": ""
            },
            "colorscale": [
             [
              0,
              "#0d0887"
             ],
             [
              0.1111111111111111,
              "#46039f"
             ],
             [
              0.2222222222222222,
              "#7201a8"
             ],
             [
              0.3333333333333333,
              "#9c179e"
             ],
             [
              0.4444444444444444,
              "#bd3786"
             ],
             [
              0.5555555555555556,
              "#d8576b"
             ],
             [
              0.6666666666666666,
              "#ed7953"
             ],
             [
              0.7777777777777778,
              "#fb9f3a"
             ],
             [
              0.8888888888888888,
              "#fdca26"
             ],
             [
              1,
              "#f0f921"
             ]
            ],
            "type": "histogram2d"
           }
          ],
          "histogram2dcontour": [
           {
            "colorbar": {
             "outlinewidth": 0,
             "ticks": ""
            },
            "colorscale": [
             [
              0,
              "#0d0887"
             ],
             [
              0.1111111111111111,
              "#46039f"
             ],
             [
              0.2222222222222222,
              "#7201a8"
             ],
             [
              0.3333333333333333,
              "#9c179e"
             ],
             [
              0.4444444444444444,
              "#bd3786"
             ],
             [
              0.5555555555555556,
              "#d8576b"
             ],
             [
              0.6666666666666666,
              "#ed7953"
             ],
             [
              0.7777777777777778,
              "#fb9f3a"
             ],
             [
              0.8888888888888888,
              "#fdca26"
             ],
             [
              1,
              "#f0f921"
             ]
            ],
            "type": "histogram2dcontour"
           }
          ],
          "mesh3d": [
           {
            "colorbar": {
             "outlinewidth": 0,
             "ticks": ""
            },
            "type": "mesh3d"
           }
          ],
          "parcoords": [
           {
            "line": {
             "colorbar": {
              "outlinewidth": 0,
              "ticks": ""
             }
            },
            "type": "parcoords"
           }
          ],
          "pie": [
           {
            "automargin": true,
            "type": "pie"
           }
          ],
          "scatter": [
           {
            "fillpattern": {
             "fillmode": "overlay",
             "size": 10,
             "solidity": 0.2
            },
            "type": "scatter"
           }
          ],
          "scatter3d": [
           {
            "line": {
             "colorbar": {
              "outlinewidth": 0,
              "ticks": ""
             }
            },
            "marker": {
             "colorbar": {
              "outlinewidth": 0,
              "ticks": ""
             }
            },
            "type": "scatter3d"
           }
          ],
          "scattercarpet": [
           {
            "marker": {
             "colorbar": {
              "outlinewidth": 0,
              "ticks": ""
             }
            },
            "type": "scattercarpet"
           }
          ],
          "scattergeo": [
           {
            "marker": {
             "colorbar": {
              "outlinewidth": 0,
              "ticks": ""
             }
            },
            "type": "scattergeo"
           }
          ],
          "scattergl": [
           {
            "marker": {
             "colorbar": {
              "outlinewidth": 0,
              "ticks": ""
             }
            },
            "type": "scattergl"
           }
          ],
          "scattermapbox": [
           {
            "marker": {
             "colorbar": {
              "outlinewidth": 0,
              "ticks": ""
             }
            },
            "type": "scattermapbox"
           }
          ],
          "scatterpolar": [
           {
            "marker": {
             "colorbar": {
              "outlinewidth": 0,
              "ticks": ""
             }
            },
            "type": "scatterpolar"
           }
          ],
          "scatterpolargl": [
           {
            "marker": {
             "colorbar": {
              "outlinewidth": 0,
              "ticks": ""
             }
            },
            "type": "scatterpolargl"
           }
          ],
          "scatterternary": [
           {
            "marker": {
             "colorbar": {
              "outlinewidth": 0,
              "ticks": ""
             }
            },
            "type": "scatterternary"
           }
          ],
          "surface": [
           {
            "colorbar": {
             "outlinewidth": 0,
             "ticks": ""
            },
            "colorscale": [
             [
              0,
              "#0d0887"
             ],
             [
              0.1111111111111111,
              "#46039f"
             ],
             [
              0.2222222222222222,
              "#7201a8"
             ],
             [
              0.3333333333333333,
              "#9c179e"
             ],
             [
              0.4444444444444444,
              "#bd3786"
             ],
             [
              0.5555555555555556,
              "#d8576b"
             ],
             [
              0.6666666666666666,
              "#ed7953"
             ],
             [
              0.7777777777777778,
              "#fb9f3a"
             ],
             [
              0.8888888888888888,
              "#fdca26"
             ],
             [
              1,
              "#f0f921"
             ]
            ],
            "type": "surface"
           }
          ],
          "table": [
           {
            "cells": {
             "fill": {
              "color": "#EBF0F8"
             },
             "line": {
              "color": "white"
             }
            },
            "header": {
             "fill": {
              "color": "#C8D4E3"
             },
             "line": {
              "color": "white"
             }
            },
            "type": "table"
           }
          ]
         },
         "layout": {
          "annotationdefaults": {
           "arrowcolor": "#2a3f5f",
           "arrowhead": 0,
           "arrowwidth": 1
          },
          "autotypenumbers": "strict",
          "coloraxis": {
           "colorbar": {
            "outlinewidth": 0,
            "ticks": ""
           }
          },
          "colorscale": {
           "diverging": [
            [
             0,
             "#8e0152"
            ],
            [
             0.1,
             "#c51b7d"
            ],
            [
             0.2,
             "#de77ae"
            ],
            [
             0.3,
             "#f1b6da"
            ],
            [
             0.4,
             "#fde0ef"
            ],
            [
             0.5,
             "#f7f7f7"
            ],
            [
             0.6,
             "#e6f5d0"
            ],
            [
             0.7,
             "#b8e186"
            ],
            [
             0.8,
             "#7fbc41"
            ],
            [
             0.9,
             "#4d9221"
            ],
            [
             1,
             "#276419"
            ]
           ],
           "sequential": [
            [
             0,
             "#0d0887"
            ],
            [
             0.1111111111111111,
             "#46039f"
            ],
            [
             0.2222222222222222,
             "#7201a8"
            ],
            [
             0.3333333333333333,
             "#9c179e"
            ],
            [
             0.4444444444444444,
             "#bd3786"
            ],
            [
             0.5555555555555556,
             "#d8576b"
            ],
            [
             0.6666666666666666,
             "#ed7953"
            ],
            [
             0.7777777777777778,
             "#fb9f3a"
            ],
            [
             0.8888888888888888,
             "#fdca26"
            ],
            [
             1,
             "#f0f921"
            ]
           ],
           "sequentialminus": [
            [
             0,
             "#0d0887"
            ],
            [
             0.1111111111111111,
             "#46039f"
            ],
            [
             0.2222222222222222,
             "#7201a8"
            ],
            [
             0.3333333333333333,
             "#9c179e"
            ],
            [
             0.4444444444444444,
             "#bd3786"
            ],
            [
             0.5555555555555556,
             "#d8576b"
            ],
            [
             0.6666666666666666,
             "#ed7953"
            ],
            [
             0.7777777777777778,
             "#fb9f3a"
            ],
            [
             0.8888888888888888,
             "#fdca26"
            ],
            [
             1,
             "#f0f921"
            ]
           ]
          },
          "colorway": [
           "#636efa",
           "#EF553B",
           "#00cc96",
           "#ab63fa",
           "#FFA15A",
           "#19d3f3",
           "#FF6692",
           "#B6E880",
           "#FF97FF",
           "#FECB52"
          ],
          "font": {
           "color": "#2a3f5f"
          },
          "geo": {
           "bgcolor": "white",
           "lakecolor": "white",
           "landcolor": "#E5ECF6",
           "showlakes": true,
           "showland": true,
           "subunitcolor": "white"
          },
          "hoverlabel": {
           "align": "left"
          },
          "hovermode": "closest",
          "mapbox": {
           "style": "light"
          },
          "paper_bgcolor": "white",
          "plot_bgcolor": "#E5ECF6",
          "polar": {
           "angularaxis": {
            "gridcolor": "white",
            "linecolor": "white",
            "ticks": ""
           },
           "bgcolor": "#E5ECF6",
           "radialaxis": {
            "gridcolor": "white",
            "linecolor": "white",
            "ticks": ""
           }
          },
          "scene": {
           "xaxis": {
            "backgroundcolor": "#E5ECF6",
            "gridcolor": "white",
            "gridwidth": 2,
            "linecolor": "white",
            "showbackground": true,
            "ticks": "",
            "zerolinecolor": "white"
           },
           "yaxis": {
            "backgroundcolor": "#E5ECF6",
            "gridcolor": "white",
            "gridwidth": 2,
            "linecolor": "white",
            "showbackground": true,
            "ticks": "",
            "zerolinecolor": "white"
           },
           "zaxis": {
            "backgroundcolor": "#E5ECF6",
            "gridcolor": "white",
            "gridwidth": 2,
            "linecolor": "white",
            "showbackground": true,
            "ticks": "",
            "zerolinecolor": "white"
           }
          },
          "shapedefaults": {
           "line": {
            "color": "#2a3f5f"
           }
          },
          "ternary": {
           "aaxis": {
            "gridcolor": "white",
            "linecolor": "white",
            "ticks": ""
           },
           "baxis": {
            "gridcolor": "white",
            "linecolor": "white",
            "ticks": ""
           },
           "bgcolor": "#E5ECF6",
           "caxis": {
            "gridcolor": "white",
            "linecolor": "white",
            "ticks": ""
           }
          },
          "title": {
           "x": 0.05
          },
          "xaxis": {
           "automargin": true,
           "gridcolor": "white",
           "linecolor": "white",
           "ticks": "",
           "title": {
            "standoff": 15
           },
           "zerolinecolor": "white",
           "zerolinewidth": 2
          },
          "yaxis": {
           "automargin": true,
           "gridcolor": "white",
           "linecolor": "white",
           "ticks": "",
           "title": {
            "standoff": 15
           },
           "zerolinecolor": "white",
           "zerolinewidth": 2
          }
         }
        },
        "title": {
         "text": "Camas ocupadas por pacientes pediatricos"
        },
        "width": 800,
        "xaxis": {
         "anchor": "y",
         "domain": [
          0,
          1
         ],
         "title": {
          "text": "x"
         }
        },
        "yaxis": {
         "anchor": "x",
         "domain": [
          0,
          1
         ],
         "title": {
          "text": "y"
         }
        }
       }
      }
     },
     "metadata": {},
     "output_type": "display_data"
    },
    {
     "data": {
      "text/html": [
       "<div>\n",
       "<style scoped>\n",
       "    .dataframe tbody tr th:only-of-type {\n",
       "        vertical-align: middle;\n",
       "    }\n",
       "\n",
       "    .dataframe tbody tr th {\n",
       "        vertical-align: top;\n",
       "    }\n",
       "\n",
       "    .dataframe thead th {\n",
       "        text-align: right;\n",
       "    }\n",
       "</style>\n",
       "<table border=\"1\" class=\"dataframe\">\n",
       "  <thead>\n",
       "    <tr style=\"text-align: right;\">\n",
       "      <th></th>\n",
       "      <th>Pacientes pediatricos hospitalizados</th>\n",
       "    </tr>\n",
       "    <tr>\n",
       "      <th>state</th>\n",
       "      <th></th>\n",
       "    </tr>\n",
       "  </thead>\n",
       "  <tbody>\n",
       "    <tr>\n",
       "      <th>AK</th>\n",
       "      <td>351.0</td>\n",
       "    </tr>\n",
       "    <tr>\n",
       "      <th>AL</th>\n",
       "      <td>2940.0</td>\n",
       "    </tr>\n",
       "    <tr>\n",
       "      <th>AR</th>\n",
       "      <td>1654.0</td>\n",
       "    </tr>\n",
       "    <tr>\n",
       "      <th>AZ</th>\n",
       "      <td>5843.0</td>\n",
       "    </tr>\n",
       "    <tr>\n",
       "      <th>CA</th>\n",
       "      <td>9981.0</td>\n",
       "    </tr>\n",
       "    <tr>\n",
       "      <th>CO</th>\n",
       "      <td>3249.0</td>\n",
       "    </tr>\n",
       "    <tr>\n",
       "      <th>CT</th>\n",
       "      <td>598.0</td>\n",
       "    </tr>\n",
       "    <tr>\n",
       "      <th>DC</th>\n",
       "      <td>934.0</td>\n",
       "    </tr>\n",
       "    <tr>\n",
       "      <th>DE</th>\n",
       "      <td>538.0</td>\n",
       "    </tr>\n",
       "    <tr>\n",
       "      <th>FL</th>\n",
       "      <td>7382.0</td>\n",
       "    </tr>\n",
       "    <tr>\n",
       "      <th>GA</th>\n",
       "      <td>5100.0</td>\n",
       "    </tr>\n",
       "    <tr>\n",
       "      <th>HI</th>\n",
       "      <td>98.0</td>\n",
       "    </tr>\n",
       "    <tr>\n",
       "      <th>IA</th>\n",
       "      <td>704.0</td>\n",
       "    </tr>\n",
       "    <tr>\n",
       "      <th>ID</th>\n",
       "      <td>550.0</td>\n",
       "    </tr>\n",
       "    <tr>\n",
       "      <th>IL</th>\n",
       "      <td>5259.0</td>\n",
       "    </tr>\n",
       "    <tr>\n",
       "      <th>IN</th>\n",
       "      <td>1465.0</td>\n",
       "    </tr>\n",
       "    <tr>\n",
       "      <th>KS</th>\n",
       "      <td>631.0</td>\n",
       "    </tr>\n",
       "    <tr>\n",
       "      <th>KY</th>\n",
       "      <td>1206.0</td>\n",
       "    </tr>\n",
       "    <tr>\n",
       "      <th>LA</th>\n",
       "      <td>745.0</td>\n",
       "    </tr>\n",
       "    <tr>\n",
       "      <th>MA</th>\n",
       "      <td>1288.0</td>\n",
       "    </tr>\n",
       "    <tr>\n",
       "      <th>MD</th>\n",
       "      <td>1126.0</td>\n",
       "    </tr>\n",
       "    <tr>\n",
       "      <th>ME</th>\n",
       "      <td>94.0</td>\n",
       "    </tr>\n",
       "    <tr>\n",
       "      <th>MI</th>\n",
       "      <td>1724.0</td>\n",
       "    </tr>\n",
       "    <tr>\n",
       "      <th>MN</th>\n",
       "      <td>2027.0</td>\n",
       "    </tr>\n",
       "    <tr>\n",
       "      <th>MO</th>\n",
       "      <td>2890.0</td>\n",
       "    </tr>\n",
       "    <tr>\n",
       "      <th>MS</th>\n",
       "      <td>976.0</td>\n",
       "    </tr>\n",
       "    <tr>\n",
       "      <th>MT</th>\n",
       "      <td>314.0</td>\n",
       "    </tr>\n",
       "    <tr>\n",
       "      <th>NC</th>\n",
       "      <td>2225.0</td>\n",
       "    </tr>\n",
       "    <tr>\n",
       "      <th>ND</th>\n",
       "      <td>404.0</td>\n",
       "    </tr>\n",
       "    <tr>\n",
       "      <th>NE</th>\n",
       "      <td>2020.0</td>\n",
       "    </tr>\n",
       "    <tr>\n",
       "      <th>NH</th>\n",
       "      <td>130.0</td>\n",
       "    </tr>\n",
       "    <tr>\n",
       "      <th>NJ</th>\n",
       "      <td>1981.0</td>\n",
       "    </tr>\n",
       "    <tr>\n",
       "      <th>NM</th>\n",
       "      <td>469.0</td>\n",
       "    </tr>\n",
       "    <tr>\n",
       "      <th>NV</th>\n",
       "      <td>1126.0</td>\n",
       "    </tr>\n",
       "    <tr>\n",
       "      <th>NY</th>\n",
       "      <td>5005.0</td>\n",
       "    </tr>\n",
       "    <tr>\n",
       "      <th>OH</th>\n",
       "      <td>3138.0</td>\n",
       "    </tr>\n",
       "    <tr>\n",
       "      <th>OK</th>\n",
       "      <td>3399.0</td>\n",
       "    </tr>\n",
       "    <tr>\n",
       "      <th>OR</th>\n",
       "      <td>511.0</td>\n",
       "    </tr>\n",
       "    <tr>\n",
       "      <th>PA</th>\n",
       "      <td>5634.0</td>\n",
       "    </tr>\n",
       "    <tr>\n",
       "      <th>PR</th>\n",
       "      <td>997.0</td>\n",
       "    </tr>\n",
       "    <tr>\n",
       "      <th>RI</th>\n",
       "      <td>1111.0</td>\n",
       "    </tr>\n",
       "    <tr>\n",
       "      <th>SC</th>\n",
       "      <td>1136.0</td>\n",
       "    </tr>\n",
       "    <tr>\n",
       "      <th>SD</th>\n",
       "      <td>1731.0</td>\n",
       "    </tr>\n",
       "    <tr>\n",
       "      <th>TN</th>\n",
       "      <td>3819.0</td>\n",
       "    </tr>\n",
       "    <tr>\n",
       "      <th>TX</th>\n",
       "      <td>12419.0</td>\n",
       "    </tr>\n",
       "    <tr>\n",
       "      <th>UT</th>\n",
       "      <td>978.0</td>\n",
       "    </tr>\n",
       "    <tr>\n",
       "      <th>VA</th>\n",
       "      <td>1704.0</td>\n",
       "    </tr>\n",
       "    <tr>\n",
       "      <th>VI</th>\n",
       "      <td>3.0</td>\n",
       "    </tr>\n",
       "    <tr>\n",
       "      <th>VT</th>\n",
       "      <td>3.0</td>\n",
       "    </tr>\n",
       "    <tr>\n",
       "      <th>WA</th>\n",
       "      <td>868.0</td>\n",
       "    </tr>\n",
       "    <tr>\n",
       "      <th>WI</th>\n",
       "      <td>611.0</td>\n",
       "    </tr>\n",
       "    <tr>\n",
       "      <th>WV</th>\n",
       "      <td>963.0</td>\n",
       "    </tr>\n",
       "    <tr>\n",
       "      <th>WY</th>\n",
       "      <td>62.0</td>\n",
       "    </tr>\n",
       "  </tbody>\n",
       "</table>\n",
       "</div>"
      ],
      "text/plain": [
       "       Pacientes pediatricos hospitalizados\n",
       "state                                      \n",
       "AK                                    351.0\n",
       "AL                                   2940.0\n",
       "AR                                   1654.0\n",
       "AZ                                   5843.0\n",
       "CA                                   9981.0\n",
       "CO                                   3249.0\n",
       "CT                                    598.0\n",
       "DC                                    934.0\n",
       "DE                                    538.0\n",
       "FL                                   7382.0\n",
       "GA                                   5100.0\n",
       "HI                                     98.0\n",
       "IA                                    704.0\n",
       "ID                                    550.0\n",
       "IL                                   5259.0\n",
       "IN                                   1465.0\n",
       "KS                                    631.0\n",
       "KY                                   1206.0\n",
       "LA                                    745.0\n",
       "MA                                   1288.0\n",
       "MD                                   1126.0\n",
       "ME                                     94.0\n",
       "MI                                   1724.0\n",
       "MN                                   2027.0\n",
       "MO                                   2890.0\n",
       "MS                                    976.0\n",
       "MT                                    314.0\n",
       "NC                                   2225.0\n",
       "ND                                    404.0\n",
       "NE                                   2020.0\n",
       "NH                                    130.0\n",
       "NJ                                   1981.0\n",
       "NM                                    469.0\n",
       "NV                                   1126.0\n",
       "NY                                   5005.0\n",
       "OH                                   3138.0\n",
       "OK                                   3399.0\n",
       "OR                                    511.0\n",
       "PA                                   5634.0\n",
       "PR                                    997.0\n",
       "RI                                   1111.0\n",
       "SC                                   1136.0\n",
       "SD                                   1731.0\n",
       "TN                                   3819.0\n",
       "TX                                  12419.0\n",
       "UT                                    978.0\n",
       "VA                                   1704.0\n",
       "VI                                      3.0\n",
       "VT                                      3.0\n",
       "WA                                    868.0\n",
       "WI                                    611.0\n",
       "WV                                    963.0\n",
       "WY                                     62.0"
      ]
     },
     "execution_count": 25,
     "metadata": {},
     "output_type": "execute_result"
    }
   ],
   "source": [
    "df_año.rename(columns={'total_pediatric_patients_hospitalized_confirmed_covid':'Pacientes pediatricos hospitalizados'},inplace=True)\n",
    "df_año['Pacientes pediatricos hospitalizados'].fillna(0,inplace = True)\n",
    "df_año['Pacientes pediatricos hospitalizados'].astype(float)\n",
    "estados3 =df_año.groupby(['state'])[['Pacientes pediatricos hospitalizados']].sum()\n",
    "labels= estados3.index\n",
    "values= estados3['Pacientes pediatricos hospitalizados']\n",
    "fig = px.bar(x= labels, y = values, width=800, height=600, title='Camas ocupadas por pacientes pediatricos')\n",
    "fig.show()\n",
    "estados3\n"
   ]
  },
  {
   "cell_type": "markdown",
   "metadata": {},
   "source": [
    "Consigna 5 \n",
    "¿Qué porcentaje de camas UCI corresponden a casos confirmados de COVID-19? Agrupe por Estado\n"
   ]
  },
  {
   "cell_type": "code",
   "execution_count": 26,
   "metadata": {},
   "outputs": [
    {
     "name": "stderr",
     "output_type": "stream",
     "text": [
      "C:\\Users\\Alfredo BTP\\AppData\\Local\\Temp\\ipykernel_38404\\1030898820.py:4: SettingWithCopyWarning:\n",
      "\n",
      "\n",
      "A value is trying to be set on a copy of a slice from a DataFrame\n",
      "\n",
      "See the caveats in the documentation: https://pandas.pydata.org/pandas-docs/stable/user_guide/indexing.html#returning-a-view-versus-a-copy\n",
      "\n"
     ]
    },
    {
     "data": {
      "application/vnd.plotly.v1+json": {
       "config": {
        "plotlyServerURL": "https://plot.ly"
       },
       "data": [
        {
         "alignmentgroup": "True",
         "hovertemplate": "x=%{x}<br>y=%{y}<extra></extra>",
         "legendgroup": "",
         "marker": {
          "color": "#636efa",
          "pattern": {
           "shape": ""
          }
         },
         "name": "",
         "offsetgroup": "",
         "orientation": "v",
         "showlegend": false,
         "textposition": "auto",
         "type": "bar",
         "x": [
          "AK",
          "AL",
          "AR",
          "AS",
          "AZ",
          "CA",
          "CO",
          "CT",
          "DC",
          "DE",
          "FL",
          "GA",
          "HI",
          "IA",
          "ID",
          "IL",
          "IN",
          "KS",
          "KY",
          "LA",
          "MA",
          "MD",
          "ME",
          "MI",
          "MN",
          "MO",
          "MS",
          "MT",
          "NC",
          "ND",
          "NE",
          "NH",
          "NJ",
          "NM",
          "NV",
          "NY",
          "OH",
          "OK",
          "OR",
          "PA",
          "PR",
          "RI",
          "SC",
          "SD",
          "TN",
          "TX",
          "UT",
          "VA",
          "VI",
          "VT",
          "WA",
          "WI",
          "WV",
          "WY"
         ],
         "xaxis": "x",
         "y": [
          10.476959301371865,
          15.558203924414427,
          17.176758975696753,
          0.08329862557267805,
          14.9062492269665,
          14.243579871463055,
          13.49334024638692,
          7.2694722245492285,
          8.66976527659413,
          11.342404665016842,
          13.159201249318336,
          18.38451903815527,
          8.528699884514145,
          11.72528522725223,
          18.452898630534463,
          12.517322546074919,
          11.993113184874895,
          11.791357471977292,
          14.874823179168303,
          10.80434962784434,
          9.546498945232774,
          13.430075781148673,
          11.375723795902292,
          12.692429264105897,
          12.588240129554462,
          16.360808334367775,
          18.545472174122573,
          13.21708804611759,
          13.533055264729251,
          12.642421118243199,
          12.76520218645501,
          10.057528107154429,
          7.442256358009577,
          18.20547650889825,
          16.27717015213572,
          9.884662770092966,
          11.166818518266242,
          16.94265074824258,
          10.11214011048287,
          11.09518079790007,
          6.46025332997252,
          10.89371739438403,
          13.646089368438075,
          13.51607532866944,
          13.35578982537988,
          18.265443294271318,
          15.616679658810998,
          11.428964668548689,
          7.972723690808797,
          6.916329316231068,
          11.83152166668706,
          11.205426744087001,
          14.004944979945765,
          12.297641540048343
         ],
         "yaxis": "y"
        }
       ],
       "layout": {
        "barmode": "relative",
        "height": 600,
        "legend": {
         "tracegroupgap": 0
        },
        "template": {
         "data": {
          "bar": [
           {
            "error_x": {
             "color": "#2a3f5f"
            },
            "error_y": {
             "color": "#2a3f5f"
            },
            "marker": {
             "line": {
              "color": "#E5ECF6",
              "width": 0.5
             },
             "pattern": {
              "fillmode": "overlay",
              "size": 10,
              "solidity": 0.2
             }
            },
            "type": "bar"
           }
          ],
          "barpolar": [
           {
            "marker": {
             "line": {
              "color": "#E5ECF6",
              "width": 0.5
             },
             "pattern": {
              "fillmode": "overlay",
              "size": 10,
              "solidity": 0.2
             }
            },
            "type": "barpolar"
           }
          ],
          "carpet": [
           {
            "aaxis": {
             "endlinecolor": "#2a3f5f",
             "gridcolor": "white",
             "linecolor": "white",
             "minorgridcolor": "white",
             "startlinecolor": "#2a3f5f"
            },
            "baxis": {
             "endlinecolor": "#2a3f5f",
             "gridcolor": "white",
             "linecolor": "white",
             "minorgridcolor": "white",
             "startlinecolor": "#2a3f5f"
            },
            "type": "carpet"
           }
          ],
          "choropleth": [
           {
            "colorbar": {
             "outlinewidth": 0,
             "ticks": ""
            },
            "type": "choropleth"
           }
          ],
          "contour": [
           {
            "colorbar": {
             "outlinewidth": 0,
             "ticks": ""
            },
            "colorscale": [
             [
              0,
              "#0d0887"
             ],
             [
              0.1111111111111111,
              "#46039f"
             ],
             [
              0.2222222222222222,
              "#7201a8"
             ],
             [
              0.3333333333333333,
              "#9c179e"
             ],
             [
              0.4444444444444444,
              "#bd3786"
             ],
             [
              0.5555555555555556,
              "#d8576b"
             ],
             [
              0.6666666666666666,
              "#ed7953"
             ],
             [
              0.7777777777777778,
              "#fb9f3a"
             ],
             [
              0.8888888888888888,
              "#fdca26"
             ],
             [
              1,
              "#f0f921"
             ]
            ],
            "type": "contour"
           }
          ],
          "contourcarpet": [
           {
            "colorbar": {
             "outlinewidth": 0,
             "ticks": ""
            },
            "type": "contourcarpet"
           }
          ],
          "heatmap": [
           {
            "colorbar": {
             "outlinewidth": 0,
             "ticks": ""
            },
            "colorscale": [
             [
              0,
              "#0d0887"
             ],
             [
              0.1111111111111111,
              "#46039f"
             ],
             [
              0.2222222222222222,
              "#7201a8"
             ],
             [
              0.3333333333333333,
              "#9c179e"
             ],
             [
              0.4444444444444444,
              "#bd3786"
             ],
             [
              0.5555555555555556,
              "#d8576b"
             ],
             [
              0.6666666666666666,
              "#ed7953"
             ],
             [
              0.7777777777777778,
              "#fb9f3a"
             ],
             [
              0.8888888888888888,
              "#fdca26"
             ],
             [
              1,
              "#f0f921"
             ]
            ],
            "type": "heatmap"
           }
          ],
          "heatmapgl": [
           {
            "colorbar": {
             "outlinewidth": 0,
             "ticks": ""
            },
            "colorscale": [
             [
              0,
              "#0d0887"
             ],
             [
              0.1111111111111111,
              "#46039f"
             ],
             [
              0.2222222222222222,
              "#7201a8"
             ],
             [
              0.3333333333333333,
              "#9c179e"
             ],
             [
              0.4444444444444444,
              "#bd3786"
             ],
             [
              0.5555555555555556,
              "#d8576b"
             ],
             [
              0.6666666666666666,
              "#ed7953"
             ],
             [
              0.7777777777777778,
              "#fb9f3a"
             ],
             [
              0.8888888888888888,
              "#fdca26"
             ],
             [
              1,
              "#f0f921"
             ]
            ],
            "type": "heatmapgl"
           }
          ],
          "histogram": [
           {
            "marker": {
             "pattern": {
              "fillmode": "overlay",
              "size": 10,
              "solidity": 0.2
             }
            },
            "type": "histogram"
           }
          ],
          "histogram2d": [
           {
            "colorbar": {
             "outlinewidth": 0,
             "ticks": ""
            },
            "colorscale": [
             [
              0,
              "#0d0887"
             ],
             [
              0.1111111111111111,
              "#46039f"
             ],
             [
              0.2222222222222222,
              "#7201a8"
             ],
             [
              0.3333333333333333,
              "#9c179e"
             ],
             [
              0.4444444444444444,
              "#bd3786"
             ],
             [
              0.5555555555555556,
              "#d8576b"
             ],
             [
              0.6666666666666666,
              "#ed7953"
             ],
             [
              0.7777777777777778,
              "#fb9f3a"
             ],
             [
              0.8888888888888888,
              "#fdca26"
             ],
             [
              1,
              "#f0f921"
             ]
            ],
            "type": "histogram2d"
           }
          ],
          "histogram2dcontour": [
           {
            "colorbar": {
             "outlinewidth": 0,
             "ticks": ""
            },
            "colorscale": [
             [
              0,
              "#0d0887"
             ],
             [
              0.1111111111111111,
              "#46039f"
             ],
             [
              0.2222222222222222,
              "#7201a8"
             ],
             [
              0.3333333333333333,
              "#9c179e"
             ],
             [
              0.4444444444444444,
              "#bd3786"
             ],
             [
              0.5555555555555556,
              "#d8576b"
             ],
             [
              0.6666666666666666,
              "#ed7953"
             ],
             [
              0.7777777777777778,
              "#fb9f3a"
             ],
             [
              0.8888888888888888,
              "#fdca26"
             ],
             [
              1,
              "#f0f921"
             ]
            ],
            "type": "histogram2dcontour"
           }
          ],
          "mesh3d": [
           {
            "colorbar": {
             "outlinewidth": 0,
             "ticks": ""
            },
            "type": "mesh3d"
           }
          ],
          "parcoords": [
           {
            "line": {
             "colorbar": {
              "outlinewidth": 0,
              "ticks": ""
             }
            },
            "type": "parcoords"
           }
          ],
          "pie": [
           {
            "automargin": true,
            "type": "pie"
           }
          ],
          "scatter": [
           {
            "fillpattern": {
             "fillmode": "overlay",
             "size": 10,
             "solidity": 0.2
            },
            "type": "scatter"
           }
          ],
          "scatter3d": [
           {
            "line": {
             "colorbar": {
              "outlinewidth": 0,
              "ticks": ""
             }
            },
            "marker": {
             "colorbar": {
              "outlinewidth": 0,
              "ticks": ""
             }
            },
            "type": "scatter3d"
           }
          ],
          "scattercarpet": [
           {
            "marker": {
             "colorbar": {
              "outlinewidth": 0,
              "ticks": ""
             }
            },
            "type": "scattercarpet"
           }
          ],
          "scattergeo": [
           {
            "marker": {
             "colorbar": {
              "outlinewidth": 0,
              "ticks": ""
             }
            },
            "type": "scattergeo"
           }
          ],
          "scattergl": [
           {
            "marker": {
             "colorbar": {
              "outlinewidth": 0,
              "ticks": ""
             }
            },
            "type": "scattergl"
           }
          ],
          "scattermapbox": [
           {
            "marker": {
             "colorbar": {
              "outlinewidth": 0,
              "ticks": ""
             }
            },
            "type": "scattermapbox"
           }
          ],
          "scatterpolar": [
           {
            "marker": {
             "colorbar": {
              "outlinewidth": 0,
              "ticks": ""
             }
            },
            "type": "scatterpolar"
           }
          ],
          "scatterpolargl": [
           {
            "marker": {
             "colorbar": {
              "outlinewidth": 0,
              "ticks": ""
             }
            },
            "type": "scatterpolargl"
           }
          ],
          "scatterternary": [
           {
            "marker": {
             "colorbar": {
              "outlinewidth": 0,
              "ticks": ""
             }
            },
            "type": "scatterternary"
           }
          ],
          "surface": [
           {
            "colorbar": {
             "outlinewidth": 0,
             "ticks": ""
            },
            "colorscale": [
             [
              0,
              "#0d0887"
             ],
             [
              0.1111111111111111,
              "#46039f"
             ],
             [
              0.2222222222222222,
              "#7201a8"
             ],
             [
              0.3333333333333333,
              "#9c179e"
             ],
             [
              0.4444444444444444,
              "#bd3786"
             ],
             [
              0.5555555555555556,
              "#d8576b"
             ],
             [
              0.6666666666666666,
              "#ed7953"
             ],
             [
              0.7777777777777778,
              "#fb9f3a"
             ],
             [
              0.8888888888888888,
              "#fdca26"
             ],
             [
              1,
              "#f0f921"
             ]
            ],
            "type": "surface"
           }
          ],
          "table": [
           {
            "cells": {
             "fill": {
              "color": "#EBF0F8"
             },
             "line": {
              "color": "white"
             }
            },
            "header": {
             "fill": {
              "color": "#C8D4E3"
             },
             "line": {
              "color": "white"
             }
            },
            "type": "table"
           }
          ]
         },
         "layout": {
          "annotationdefaults": {
           "arrowcolor": "#2a3f5f",
           "arrowhead": 0,
           "arrowwidth": 1
          },
          "autotypenumbers": "strict",
          "coloraxis": {
           "colorbar": {
            "outlinewidth": 0,
            "ticks": ""
           }
          },
          "colorscale": {
           "diverging": [
            [
             0,
             "#8e0152"
            ],
            [
             0.1,
             "#c51b7d"
            ],
            [
             0.2,
             "#de77ae"
            ],
            [
             0.3,
             "#f1b6da"
            ],
            [
             0.4,
             "#fde0ef"
            ],
            [
             0.5,
             "#f7f7f7"
            ],
            [
             0.6,
             "#e6f5d0"
            ],
            [
             0.7,
             "#b8e186"
            ],
            [
             0.8,
             "#7fbc41"
            ],
            [
             0.9,
             "#4d9221"
            ],
            [
             1,
             "#276419"
            ]
           ],
           "sequential": [
            [
             0,
             "#0d0887"
            ],
            [
             0.1111111111111111,
             "#46039f"
            ],
            [
             0.2222222222222222,
             "#7201a8"
            ],
            [
             0.3333333333333333,
             "#9c179e"
            ],
            [
             0.4444444444444444,
             "#bd3786"
            ],
            [
             0.5555555555555556,
             "#d8576b"
            ],
            [
             0.6666666666666666,
             "#ed7953"
            ],
            [
             0.7777777777777778,
             "#fb9f3a"
            ],
            [
             0.8888888888888888,
             "#fdca26"
            ],
            [
             1,
             "#f0f921"
            ]
           ],
           "sequentialminus": [
            [
             0,
             "#0d0887"
            ],
            [
             0.1111111111111111,
             "#46039f"
            ],
            [
             0.2222222222222222,
             "#7201a8"
            ],
            [
             0.3333333333333333,
             "#9c179e"
            ],
            [
             0.4444444444444444,
             "#bd3786"
            ],
            [
             0.5555555555555556,
             "#d8576b"
            ],
            [
             0.6666666666666666,
             "#ed7953"
            ],
            [
             0.7777777777777778,
             "#fb9f3a"
            ],
            [
             0.8888888888888888,
             "#fdca26"
            ],
            [
             1,
             "#f0f921"
            ]
           ]
          },
          "colorway": [
           "#636efa",
           "#EF553B",
           "#00cc96",
           "#ab63fa",
           "#FFA15A",
           "#19d3f3",
           "#FF6692",
           "#B6E880",
           "#FF97FF",
           "#FECB52"
          ],
          "font": {
           "color": "#2a3f5f"
          },
          "geo": {
           "bgcolor": "white",
           "lakecolor": "white",
           "landcolor": "#E5ECF6",
           "showlakes": true,
           "showland": true,
           "subunitcolor": "white"
          },
          "hoverlabel": {
           "align": "left"
          },
          "hovermode": "closest",
          "mapbox": {
           "style": "light"
          },
          "paper_bgcolor": "white",
          "plot_bgcolor": "#E5ECF6",
          "polar": {
           "angularaxis": {
            "gridcolor": "white",
            "linecolor": "white",
            "ticks": ""
           },
           "bgcolor": "#E5ECF6",
           "radialaxis": {
            "gridcolor": "white",
            "linecolor": "white",
            "ticks": ""
           }
          },
          "scene": {
           "xaxis": {
            "backgroundcolor": "#E5ECF6",
            "gridcolor": "white",
            "gridwidth": 2,
            "linecolor": "white",
            "showbackground": true,
            "ticks": "",
            "zerolinecolor": "white"
           },
           "yaxis": {
            "backgroundcolor": "#E5ECF6",
            "gridcolor": "white",
            "gridwidth": 2,
            "linecolor": "white",
            "showbackground": true,
            "ticks": "",
            "zerolinecolor": "white"
           },
           "zaxis": {
            "backgroundcolor": "#E5ECF6",
            "gridcolor": "white",
            "gridwidth": 2,
            "linecolor": "white",
            "showbackground": true,
            "ticks": "",
            "zerolinecolor": "white"
           }
          },
          "shapedefaults": {
           "line": {
            "color": "#2a3f5f"
           }
          },
          "ternary": {
           "aaxis": {
            "gridcolor": "white",
            "linecolor": "white",
            "ticks": ""
           },
           "baxis": {
            "gridcolor": "white",
            "linecolor": "white",
            "ticks": ""
           },
           "bgcolor": "#E5ECF6",
           "caxis": {
            "gridcolor": "white",
            "linecolor": "white",
            "ticks": ""
           }
          },
          "title": {
           "x": 0.05
          },
          "xaxis": {
           "automargin": true,
           "gridcolor": "white",
           "linecolor": "white",
           "ticks": "",
           "title": {
            "standoff": 15
           },
           "zerolinecolor": "white",
           "zerolinewidth": 2
          },
          "yaxis": {
           "automargin": true,
           "gridcolor": "white",
           "linecolor": "white",
           "ticks": "",
           "title": {
            "standoff": 15
           },
           "zerolinecolor": "white",
           "zerolinewidth": 2
          }
         }
        },
        "title": {
         "text": "Promedio de % de camas UCI utilizadas"
        },
        "width": 800,
        "xaxis": {
         "anchor": "y",
         "domain": [
          0,
          1
         ],
         "title": {
          "text": "x"
         }
        },
        "yaxis": {
         "anchor": "x",
         "domain": [
          0,
          1
         ],
         "title": {
          "text": "y"
         }
        }
       }
      }
     },
     "metadata": {},
     "output_type": "display_data"
    },
    {
     "data": {
      "text/html": [
       "<div>\n",
       "<style scoped>\n",
       "    .dataframe tbody tr th:only-of-type {\n",
       "        vertical-align: middle;\n",
       "    }\n",
       "\n",
       "    .dataframe tbody tr th {\n",
       "        vertical-align: top;\n",
       "    }\n",
       "\n",
       "    .dataframe thead th {\n",
       "        text-align: right;\n",
       "    }\n",
       "</style>\n",
       "<table border=\"1\" class=\"dataframe\">\n",
       "  <thead>\n",
       "    <tr style=\"text-align: right;\">\n",
       "      <th></th>\n",
       "      <th>adult_icu_bed_covid_utilization</th>\n",
       "      <th>Promedio de % de camas UCI utilizadas</th>\n",
       "    </tr>\n",
       "    <tr>\n",
       "      <th>state</th>\n",
       "      <th></th>\n",
       "      <th></th>\n",
       "    </tr>\n",
       "  </thead>\n",
       "  <tbody>\n",
       "    <tr>\n",
       "      <th>AK</th>\n",
       "      <td>0.104770</td>\n",
       "      <td>10.476959</td>\n",
       "    </tr>\n",
       "    <tr>\n",
       "      <th>AL</th>\n",
       "      <td>0.155582</td>\n",
       "      <td>15.558204</td>\n",
       "    </tr>\n",
       "    <tr>\n",
       "      <th>AR</th>\n",
       "      <td>0.171768</td>\n",
       "      <td>17.176759</td>\n",
       "    </tr>\n",
       "    <tr>\n",
       "      <th>AS</th>\n",
       "      <td>0.000833</td>\n",
       "      <td>0.083299</td>\n",
       "    </tr>\n",
       "    <tr>\n",
       "      <th>AZ</th>\n",
       "      <td>0.149062</td>\n",
       "      <td>14.906249</td>\n",
       "    </tr>\n",
       "    <tr>\n",
       "      <th>CA</th>\n",
       "      <td>0.142436</td>\n",
       "      <td>14.243580</td>\n",
       "    </tr>\n",
       "    <tr>\n",
       "      <th>CO</th>\n",
       "      <td>0.134933</td>\n",
       "      <td>13.493340</td>\n",
       "    </tr>\n",
       "    <tr>\n",
       "      <th>CT</th>\n",
       "      <td>0.072695</td>\n",
       "      <td>7.269472</td>\n",
       "    </tr>\n",
       "    <tr>\n",
       "      <th>DC</th>\n",
       "      <td>0.086698</td>\n",
       "      <td>8.669765</td>\n",
       "    </tr>\n",
       "    <tr>\n",
       "      <th>DE</th>\n",
       "      <td>0.113424</td>\n",
       "      <td>11.342405</td>\n",
       "    </tr>\n",
       "    <tr>\n",
       "      <th>FL</th>\n",
       "      <td>0.131592</td>\n",
       "      <td>13.159201</td>\n",
       "    </tr>\n",
       "    <tr>\n",
       "      <th>GA</th>\n",
       "      <td>0.183845</td>\n",
       "      <td>18.384519</td>\n",
       "    </tr>\n",
       "    <tr>\n",
       "      <th>HI</th>\n",
       "      <td>0.085287</td>\n",
       "      <td>8.528700</td>\n",
       "    </tr>\n",
       "    <tr>\n",
       "      <th>IA</th>\n",
       "      <td>0.117253</td>\n",
       "      <td>11.725285</td>\n",
       "    </tr>\n",
       "    <tr>\n",
       "      <th>ID</th>\n",
       "      <td>0.184529</td>\n",
       "      <td>18.452899</td>\n",
       "    </tr>\n",
       "    <tr>\n",
       "      <th>IL</th>\n",
       "      <td>0.125173</td>\n",
       "      <td>12.517323</td>\n",
       "    </tr>\n",
       "    <tr>\n",
       "      <th>IN</th>\n",
       "      <td>0.119931</td>\n",
       "      <td>11.993113</td>\n",
       "    </tr>\n",
       "    <tr>\n",
       "      <th>KS</th>\n",
       "      <td>0.117914</td>\n",
       "      <td>11.791357</td>\n",
       "    </tr>\n",
       "    <tr>\n",
       "      <th>KY</th>\n",
       "      <td>0.148748</td>\n",
       "      <td>14.874823</td>\n",
       "    </tr>\n",
       "    <tr>\n",
       "      <th>LA</th>\n",
       "      <td>0.108043</td>\n",
       "      <td>10.804350</td>\n",
       "    </tr>\n",
       "    <tr>\n",
       "      <th>MA</th>\n",
       "      <td>0.095465</td>\n",
       "      <td>9.546499</td>\n",
       "    </tr>\n",
       "    <tr>\n",
       "      <th>MD</th>\n",
       "      <td>0.134301</td>\n",
       "      <td>13.430076</td>\n",
       "    </tr>\n",
       "    <tr>\n",
       "      <th>ME</th>\n",
       "      <td>0.113757</td>\n",
       "      <td>11.375724</td>\n",
       "    </tr>\n",
       "    <tr>\n",
       "      <th>MI</th>\n",
       "      <td>0.126924</td>\n",
       "      <td>12.692429</td>\n",
       "    </tr>\n",
       "    <tr>\n",
       "      <th>MN</th>\n",
       "      <td>0.125882</td>\n",
       "      <td>12.588240</td>\n",
       "    </tr>\n",
       "    <tr>\n",
       "      <th>MO</th>\n",
       "      <td>0.163608</td>\n",
       "      <td>16.360808</td>\n",
       "    </tr>\n",
       "    <tr>\n",
       "      <th>MS</th>\n",
       "      <td>0.185455</td>\n",
       "      <td>18.545472</td>\n",
       "    </tr>\n",
       "    <tr>\n",
       "      <th>MT</th>\n",
       "      <td>0.132171</td>\n",
       "      <td>13.217088</td>\n",
       "    </tr>\n",
       "    <tr>\n",
       "      <th>NC</th>\n",
       "      <td>0.135331</td>\n",
       "      <td>13.533055</td>\n",
       "    </tr>\n",
       "    <tr>\n",
       "      <th>ND</th>\n",
       "      <td>0.126424</td>\n",
       "      <td>12.642421</td>\n",
       "    </tr>\n",
       "    <tr>\n",
       "      <th>NE</th>\n",
       "      <td>0.127652</td>\n",
       "      <td>12.765202</td>\n",
       "    </tr>\n",
       "    <tr>\n",
       "      <th>NH</th>\n",
       "      <td>0.100575</td>\n",
       "      <td>10.057528</td>\n",
       "    </tr>\n",
       "    <tr>\n",
       "      <th>NJ</th>\n",
       "      <td>0.074423</td>\n",
       "      <td>7.442256</td>\n",
       "    </tr>\n",
       "    <tr>\n",
       "      <th>NM</th>\n",
       "      <td>0.182055</td>\n",
       "      <td>18.205477</td>\n",
       "    </tr>\n",
       "    <tr>\n",
       "      <th>NV</th>\n",
       "      <td>0.162772</td>\n",
       "      <td>16.277170</td>\n",
       "    </tr>\n",
       "    <tr>\n",
       "      <th>NY</th>\n",
       "      <td>0.098847</td>\n",
       "      <td>9.884663</td>\n",
       "    </tr>\n",
       "    <tr>\n",
       "      <th>OH</th>\n",
       "      <td>0.111668</td>\n",
       "      <td>11.166819</td>\n",
       "    </tr>\n",
       "    <tr>\n",
       "      <th>OK</th>\n",
       "      <td>0.169427</td>\n",
       "      <td>16.942651</td>\n",
       "    </tr>\n",
       "    <tr>\n",
       "      <th>OR</th>\n",
       "      <td>0.101121</td>\n",
       "      <td>10.112140</td>\n",
       "    </tr>\n",
       "    <tr>\n",
       "      <th>PA</th>\n",
       "      <td>0.110952</td>\n",
       "      <td>11.095181</td>\n",
       "    </tr>\n",
       "    <tr>\n",
       "      <th>PR</th>\n",
       "      <td>0.064603</td>\n",
       "      <td>6.460253</td>\n",
       "    </tr>\n",
       "    <tr>\n",
       "      <th>RI</th>\n",
       "      <td>0.108937</td>\n",
       "      <td>10.893717</td>\n",
       "    </tr>\n",
       "    <tr>\n",
       "      <th>SC</th>\n",
       "      <td>0.136461</td>\n",
       "      <td>13.646089</td>\n",
       "    </tr>\n",
       "    <tr>\n",
       "      <th>SD</th>\n",
       "      <td>0.135161</td>\n",
       "      <td>13.516075</td>\n",
       "    </tr>\n",
       "    <tr>\n",
       "      <th>TN</th>\n",
       "      <td>0.133558</td>\n",
       "      <td>13.355790</td>\n",
       "    </tr>\n",
       "    <tr>\n",
       "      <th>TX</th>\n",
       "      <td>0.182654</td>\n",
       "      <td>18.265443</td>\n",
       "    </tr>\n",
       "    <tr>\n",
       "      <th>UT</th>\n",
       "      <td>0.156167</td>\n",
       "      <td>15.616680</td>\n",
       "    </tr>\n",
       "    <tr>\n",
       "      <th>VA</th>\n",
       "      <td>0.114290</td>\n",
       "      <td>11.428965</td>\n",
       "    </tr>\n",
       "    <tr>\n",
       "      <th>VI</th>\n",
       "      <td>0.079727</td>\n",
       "      <td>7.972724</td>\n",
       "    </tr>\n",
       "    <tr>\n",
       "      <th>VT</th>\n",
       "      <td>0.069163</td>\n",
       "      <td>6.916329</td>\n",
       "    </tr>\n",
       "    <tr>\n",
       "      <th>WA</th>\n",
       "      <td>0.118315</td>\n",
       "      <td>11.831522</td>\n",
       "    </tr>\n",
       "    <tr>\n",
       "      <th>WI</th>\n",
       "      <td>0.112054</td>\n",
       "      <td>11.205427</td>\n",
       "    </tr>\n",
       "    <tr>\n",
       "      <th>WV</th>\n",
       "      <td>0.140049</td>\n",
       "      <td>14.004945</td>\n",
       "    </tr>\n",
       "    <tr>\n",
       "      <th>WY</th>\n",
       "      <td>0.122976</td>\n",
       "      <td>12.297642</td>\n",
       "    </tr>\n",
       "  </tbody>\n",
       "</table>\n",
       "</div>"
      ],
      "text/plain": [
       "       adult_icu_bed_covid_utilization  Promedio de % de camas UCI utilizadas\n",
       "state                                                                        \n",
       "AK                            0.104770                              10.476959\n",
       "AL                            0.155582                              15.558204\n",
       "AR                            0.171768                              17.176759\n",
       "AS                            0.000833                               0.083299\n",
       "AZ                            0.149062                              14.906249\n",
       "CA                            0.142436                              14.243580\n",
       "CO                            0.134933                              13.493340\n",
       "CT                            0.072695                               7.269472\n",
       "DC                            0.086698                               8.669765\n",
       "DE                            0.113424                              11.342405\n",
       "FL                            0.131592                              13.159201\n",
       "GA                            0.183845                              18.384519\n",
       "HI                            0.085287                               8.528700\n",
       "IA                            0.117253                              11.725285\n",
       "ID                            0.184529                              18.452899\n",
       "IL                            0.125173                              12.517323\n",
       "IN                            0.119931                              11.993113\n",
       "KS                            0.117914                              11.791357\n",
       "KY                            0.148748                              14.874823\n",
       "LA                            0.108043                              10.804350\n",
       "MA                            0.095465                               9.546499\n",
       "MD                            0.134301                              13.430076\n",
       "ME                            0.113757                              11.375724\n",
       "MI                            0.126924                              12.692429\n",
       "MN                            0.125882                              12.588240\n",
       "MO                            0.163608                              16.360808\n",
       "MS                            0.185455                              18.545472\n",
       "MT                            0.132171                              13.217088\n",
       "NC                            0.135331                              13.533055\n",
       "ND                            0.126424                              12.642421\n",
       "NE                            0.127652                              12.765202\n",
       "NH                            0.100575                              10.057528\n",
       "NJ                            0.074423                               7.442256\n",
       "NM                            0.182055                              18.205477\n",
       "NV                            0.162772                              16.277170\n",
       "NY                            0.098847                               9.884663\n",
       "OH                            0.111668                              11.166819\n",
       "OK                            0.169427                              16.942651\n",
       "OR                            0.101121                              10.112140\n",
       "PA                            0.110952                              11.095181\n",
       "PR                            0.064603                               6.460253\n",
       "RI                            0.108937                              10.893717\n",
       "SC                            0.136461                              13.646089\n",
       "SD                            0.135161                              13.516075\n",
       "TN                            0.133558                              13.355790\n",
       "TX                            0.182654                              18.265443\n",
       "UT                            0.156167                              15.616680\n",
       "VA                            0.114290                              11.428965\n",
       "VI                            0.079727                               7.972724\n",
       "VT                            0.069163                               6.916329\n",
       "WA                            0.118315                              11.831522\n",
       "WI                            0.112054                              11.205427\n",
       "WV                            0.140049                              14.004945\n",
       "WY                            0.122976                              12.297642"
      ]
     },
     "execution_count": 26,
     "metadata": {},
     "output_type": "execute_result"
    }
   ],
   "source": [
    "#Solucion A\n",
    "mask_total = (df['date'] >='2020-01-01T00:00:00.000' )&(df['date'] <='2022-08-01T00:00:00.000')\t\n",
    "df_completo = df[mask_total]\n",
    "df_completo['adult_icu_bed_covid_utilization'].fillna(0, inplace=True)\n",
    "df_completo['adult_icu_bed_covid_utilization'].astype(float)\n",
    "estados4 =df_completo.groupby(['state'])[['adult_icu_bed_covid_utilization']].mean()\n",
    "estados4['Promedio de % de camas UCI utilizadas'] = estados4['adult_icu_bed_covid_utilization'] * 100\n",
    "labels= estados4.index\n",
    "values= estados4['Promedio de % de camas UCI utilizadas']\n",
    "fig = px.bar(x= labels, y = values, width=800, height=600, title='Promedio de % de camas UCI utilizadas')\n",
    "fig.show()\n",
    "estados4\n"
   ]
  },
  {
   "cell_type": "markdown",
   "metadata": {},
   "source": [
    "6 - ¿Cuántas muertes por covid hubo, por Estado, durante el año 2021?"
   ]
  },
  {
   "cell_type": "code",
   "execution_count": 27,
   "metadata": {},
   "outputs": [
    {
     "name": "stderr",
     "output_type": "stream",
     "text": [
      "C:\\Users\\Alfredo BTP\\AppData\\Local\\Temp\\ipykernel_38404\\1384117604.py:2: SettingWithCopyWarning:\n",
      "\n",
      "\n",
      "A value is trying to be set on a copy of a slice from a DataFrame\n",
      "\n",
      "See the caveats in the documentation: https://pandas.pydata.org/pandas-docs/stable/user_guide/indexing.html#returning-a-view-versus-a-copy\n",
      "\n",
      "C:\\Users\\Alfredo BTP\\AppData\\Local\\Temp\\ipykernel_38404\\1384117604.py:3: SettingWithCopyWarning:\n",
      "\n",
      "\n",
      "A value is trying to be set on a copy of a slice from a DataFrame\n",
      "\n",
      "See the caveats in the documentation: https://pandas.pydata.org/pandas-docs/stable/user_guide/indexing.html#returning-a-view-versus-a-copy\n",
      "\n"
     ]
    },
    {
     "data": {
      "application/vnd.plotly.v1+json": {
       "config": {
        "linkText": "Export to plot.ly",
        "plotlyServerURL": "https://plot.ly",
        "showLink": false
       },
       "data": [
        {
         "locationmode": "USA-states",
         "locations": [
          "AK",
          "AL",
          "AR",
          "AZ",
          "CA",
          "CO",
          "CT",
          "DC",
          "DE",
          "FL",
          "GA",
          "HI",
          "IA",
          "ID",
          "IL",
          "IN",
          "KS",
          "KY",
          "LA",
          "MA",
          "MD",
          "ME",
          "MI",
          "MN",
          "MO",
          "MS",
          "MT",
          "NC",
          "ND",
          "NE",
          "NH",
          "NJ",
          "NM",
          "NV",
          "NY",
          "OH",
          "OK",
          "OR",
          "PA",
          "PR",
          "RI",
          "SC",
          "SD",
          "TN",
          "TX",
          "UT",
          "VA",
          "VI",
          "VT",
          "WA",
          "WI",
          "WV",
          "WY"
         ],
         "type": "choropleth",
         "z": [
          200,
          3955,
          2742,
          7759,
          27370,
          1566,
          2241,
          1055,
          456,
          16793,
          5970,
          204,
          2000,
          618,
          9325,
          6137,
          2002,
          4459,
          4211,
          5593,
          3004,
          199,
          10237,
          2091,
          4821,
          4994,
          1110,
          4365,
          612,
          1297,
          191,
          6384,
          1393,
          2964,
          55296,
          5495,
          2957,
          11476,
          9688,
          2791,
          721,
          4038,
          531,
          5767,
          21550,
          393,
          2487,
          11,
          32,
          1567,
          6823,
          923,
          196
         ]
        }
       ],
       "layout": {
        "geo": {
         "scope": "usa"
        },
        "template": {
         "data": {
          "bar": [
           {
            "error_x": {
             "color": "#2a3f5f"
            },
            "error_y": {
             "color": "#2a3f5f"
            },
            "marker": {
             "line": {
              "color": "#E5ECF6",
              "width": 0.5
             },
             "pattern": {
              "fillmode": "overlay",
              "size": 10,
              "solidity": 0.2
             }
            },
            "type": "bar"
           }
          ],
          "barpolar": [
           {
            "marker": {
             "line": {
              "color": "#E5ECF6",
              "width": 0.5
             },
             "pattern": {
              "fillmode": "overlay",
              "size": 10,
              "solidity": 0.2
             }
            },
            "type": "barpolar"
           }
          ],
          "carpet": [
           {
            "aaxis": {
             "endlinecolor": "#2a3f5f",
             "gridcolor": "white",
             "linecolor": "white",
             "minorgridcolor": "white",
             "startlinecolor": "#2a3f5f"
            },
            "baxis": {
             "endlinecolor": "#2a3f5f",
             "gridcolor": "white",
             "linecolor": "white",
             "minorgridcolor": "white",
             "startlinecolor": "#2a3f5f"
            },
            "type": "carpet"
           }
          ],
          "choropleth": [
           {
            "colorbar": {
             "outlinewidth": 0,
             "ticks": ""
            },
            "type": "choropleth"
           }
          ],
          "contour": [
           {
            "colorbar": {
             "outlinewidth": 0,
             "ticks": ""
            },
            "colorscale": [
             [
              0,
              "#0d0887"
             ],
             [
              0.1111111111111111,
              "#46039f"
             ],
             [
              0.2222222222222222,
              "#7201a8"
             ],
             [
              0.3333333333333333,
              "#9c179e"
             ],
             [
              0.4444444444444444,
              "#bd3786"
             ],
             [
              0.5555555555555556,
              "#d8576b"
             ],
             [
              0.6666666666666666,
              "#ed7953"
             ],
             [
              0.7777777777777778,
              "#fb9f3a"
             ],
             [
              0.8888888888888888,
              "#fdca26"
             ],
             [
              1,
              "#f0f921"
             ]
            ],
            "type": "contour"
           }
          ],
          "contourcarpet": [
           {
            "colorbar": {
             "outlinewidth": 0,
             "ticks": ""
            },
            "type": "contourcarpet"
           }
          ],
          "heatmap": [
           {
            "colorbar": {
             "outlinewidth": 0,
             "ticks": ""
            },
            "colorscale": [
             [
              0,
              "#0d0887"
             ],
             [
              0.1111111111111111,
              "#46039f"
             ],
             [
              0.2222222222222222,
              "#7201a8"
             ],
             [
              0.3333333333333333,
              "#9c179e"
             ],
             [
              0.4444444444444444,
              "#bd3786"
             ],
             [
              0.5555555555555556,
              "#d8576b"
             ],
             [
              0.6666666666666666,
              "#ed7953"
             ],
             [
              0.7777777777777778,
              "#fb9f3a"
             ],
             [
              0.8888888888888888,
              "#fdca26"
             ],
             [
              1,
              "#f0f921"
             ]
            ],
            "type": "heatmap"
           }
          ],
          "heatmapgl": [
           {
            "colorbar": {
             "outlinewidth": 0,
             "ticks": ""
            },
            "colorscale": [
             [
              0,
              "#0d0887"
             ],
             [
              0.1111111111111111,
              "#46039f"
             ],
             [
              0.2222222222222222,
              "#7201a8"
             ],
             [
              0.3333333333333333,
              "#9c179e"
             ],
             [
              0.4444444444444444,
              "#bd3786"
             ],
             [
              0.5555555555555556,
              "#d8576b"
             ],
             [
              0.6666666666666666,
              "#ed7953"
             ],
             [
              0.7777777777777778,
              "#fb9f3a"
             ],
             [
              0.8888888888888888,
              "#fdca26"
             ],
             [
              1,
              "#f0f921"
             ]
            ],
            "type": "heatmapgl"
           }
          ],
          "histogram": [
           {
            "marker": {
             "pattern": {
              "fillmode": "overlay",
              "size": 10,
              "solidity": 0.2
             }
            },
            "type": "histogram"
           }
          ],
          "histogram2d": [
           {
            "colorbar": {
             "outlinewidth": 0,
             "ticks": ""
            },
            "colorscale": [
             [
              0,
              "#0d0887"
             ],
             [
              0.1111111111111111,
              "#46039f"
             ],
             [
              0.2222222222222222,
              "#7201a8"
             ],
             [
              0.3333333333333333,
              "#9c179e"
             ],
             [
              0.4444444444444444,
              "#bd3786"
             ],
             [
              0.5555555555555556,
              "#d8576b"
             ],
             [
              0.6666666666666666,
              "#ed7953"
             ],
             [
              0.7777777777777778,
              "#fb9f3a"
             ],
             [
              0.8888888888888888,
              "#fdca26"
             ],
             [
              1,
              "#f0f921"
             ]
            ],
            "type": "histogram2d"
           }
          ],
          "histogram2dcontour": [
           {
            "colorbar": {
             "outlinewidth": 0,
             "ticks": ""
            },
            "colorscale": [
             [
              0,
              "#0d0887"
             ],
             [
              0.1111111111111111,
              "#46039f"
             ],
             [
              0.2222222222222222,
              "#7201a8"
             ],
             [
              0.3333333333333333,
              "#9c179e"
             ],
             [
              0.4444444444444444,
              "#bd3786"
             ],
             [
              0.5555555555555556,
              "#d8576b"
             ],
             [
              0.6666666666666666,
              "#ed7953"
             ],
             [
              0.7777777777777778,
              "#fb9f3a"
             ],
             [
              0.8888888888888888,
              "#fdca26"
             ],
             [
              1,
              "#f0f921"
             ]
            ],
            "type": "histogram2dcontour"
           }
          ],
          "mesh3d": [
           {
            "colorbar": {
             "outlinewidth": 0,
             "ticks": ""
            },
            "type": "mesh3d"
           }
          ],
          "parcoords": [
           {
            "line": {
             "colorbar": {
              "outlinewidth": 0,
              "ticks": ""
             }
            },
            "type": "parcoords"
           }
          ],
          "pie": [
           {
            "automargin": true,
            "type": "pie"
           }
          ],
          "scatter": [
           {
            "fillpattern": {
             "fillmode": "overlay",
             "size": 10,
             "solidity": 0.2
            },
            "type": "scatter"
           }
          ],
          "scatter3d": [
           {
            "line": {
             "colorbar": {
              "outlinewidth": 0,
              "ticks": ""
             }
            },
            "marker": {
             "colorbar": {
              "outlinewidth": 0,
              "ticks": ""
             }
            },
            "type": "scatter3d"
           }
          ],
          "scattercarpet": [
           {
            "marker": {
             "colorbar": {
              "outlinewidth": 0,
              "ticks": ""
             }
            },
            "type": "scattercarpet"
           }
          ],
          "scattergeo": [
           {
            "marker": {
             "colorbar": {
              "outlinewidth": 0,
              "ticks": ""
             }
            },
            "type": "scattergeo"
           }
          ],
          "scattergl": [
           {
            "marker": {
             "colorbar": {
              "outlinewidth": 0,
              "ticks": ""
             }
            },
            "type": "scattergl"
           }
          ],
          "scattermapbox": [
           {
            "marker": {
             "colorbar": {
              "outlinewidth": 0,
              "ticks": ""
             }
            },
            "type": "scattermapbox"
           }
          ],
          "scatterpolar": [
           {
            "marker": {
             "colorbar": {
              "outlinewidth": 0,
              "ticks": ""
             }
            },
            "type": "scatterpolar"
           }
          ],
          "scatterpolargl": [
           {
            "marker": {
             "colorbar": {
              "outlinewidth": 0,
              "ticks": ""
             }
            },
            "type": "scatterpolargl"
           }
          ],
          "scatterternary": [
           {
            "marker": {
             "colorbar": {
              "outlinewidth": 0,
              "ticks": ""
             }
            },
            "type": "scatterternary"
           }
          ],
          "surface": [
           {
            "colorbar": {
             "outlinewidth": 0,
             "ticks": ""
            },
            "colorscale": [
             [
              0,
              "#0d0887"
             ],
             [
              0.1111111111111111,
              "#46039f"
             ],
             [
              0.2222222222222222,
              "#7201a8"
             ],
             [
              0.3333333333333333,
              "#9c179e"
             ],
             [
              0.4444444444444444,
              "#bd3786"
             ],
             [
              0.5555555555555556,
              "#d8576b"
             ],
             [
              0.6666666666666666,
              "#ed7953"
             ],
             [
              0.7777777777777778,
              "#fb9f3a"
             ],
             [
              0.8888888888888888,
              "#fdca26"
             ],
             [
              1,
              "#f0f921"
             ]
            ],
            "type": "surface"
           }
          ],
          "table": [
           {
            "cells": {
             "fill": {
              "color": "#EBF0F8"
             },
             "line": {
              "color": "white"
             }
            },
            "header": {
             "fill": {
              "color": "#C8D4E3"
             },
             "line": {
              "color": "white"
             }
            },
            "type": "table"
           }
          ]
         },
         "layout": {
          "annotationdefaults": {
           "arrowcolor": "#2a3f5f",
           "arrowhead": 0,
           "arrowwidth": 1
          },
          "autotypenumbers": "strict",
          "coloraxis": {
           "colorbar": {
            "outlinewidth": 0,
            "ticks": ""
           }
          },
          "colorscale": {
           "diverging": [
            [
             0,
             "#8e0152"
            ],
            [
             0.1,
             "#c51b7d"
            ],
            [
             0.2,
             "#de77ae"
            ],
            [
             0.3,
             "#f1b6da"
            ],
            [
             0.4,
             "#fde0ef"
            ],
            [
             0.5,
             "#f7f7f7"
            ],
            [
             0.6,
             "#e6f5d0"
            ],
            [
             0.7,
             "#b8e186"
            ],
            [
             0.8,
             "#7fbc41"
            ],
            [
             0.9,
             "#4d9221"
            ],
            [
             1,
             "#276419"
            ]
           ],
           "sequential": [
            [
             0,
             "#0d0887"
            ],
            [
             0.1111111111111111,
             "#46039f"
            ],
            [
             0.2222222222222222,
             "#7201a8"
            ],
            [
             0.3333333333333333,
             "#9c179e"
            ],
            [
             0.4444444444444444,
             "#bd3786"
            ],
            [
             0.5555555555555556,
             "#d8576b"
            ],
            [
             0.6666666666666666,
             "#ed7953"
            ],
            [
             0.7777777777777778,
             "#fb9f3a"
            ],
            [
             0.8888888888888888,
             "#fdca26"
            ],
            [
             1,
             "#f0f921"
            ]
           ],
           "sequentialminus": [
            [
             0,
             "#0d0887"
            ],
            [
             0.1111111111111111,
             "#46039f"
            ],
            [
             0.2222222222222222,
             "#7201a8"
            ],
            [
             0.3333333333333333,
             "#9c179e"
            ],
            [
             0.4444444444444444,
             "#bd3786"
            ],
            [
             0.5555555555555556,
             "#d8576b"
            ],
            [
             0.6666666666666666,
             "#ed7953"
            ],
            [
             0.7777777777777778,
             "#fb9f3a"
            ],
            [
             0.8888888888888888,
             "#fdca26"
            ],
            [
             1,
             "#f0f921"
            ]
           ]
          },
          "colorway": [
           "#636efa",
           "#EF553B",
           "#00cc96",
           "#ab63fa",
           "#FFA15A",
           "#19d3f3",
           "#FF6692",
           "#B6E880",
           "#FF97FF",
           "#FECB52"
          ],
          "font": {
           "color": "#2a3f5f"
          },
          "geo": {
           "bgcolor": "white",
           "lakecolor": "white",
           "landcolor": "#E5ECF6",
           "showlakes": true,
           "showland": true,
           "subunitcolor": "white"
          },
          "hoverlabel": {
           "align": "left"
          },
          "hovermode": "closest",
          "mapbox": {
           "style": "light"
          },
          "paper_bgcolor": "white",
          "plot_bgcolor": "#E5ECF6",
          "polar": {
           "angularaxis": {
            "gridcolor": "white",
            "linecolor": "white",
            "ticks": ""
           },
           "bgcolor": "#E5ECF6",
           "radialaxis": {
            "gridcolor": "white",
            "linecolor": "white",
            "ticks": ""
           }
          },
          "scene": {
           "xaxis": {
            "backgroundcolor": "#E5ECF6",
            "gridcolor": "white",
            "gridwidth": 2,
            "linecolor": "white",
            "showbackground": true,
            "ticks": "",
            "zerolinecolor": "white"
           },
           "yaxis": {
            "backgroundcolor": "#E5ECF6",
            "gridcolor": "white",
            "gridwidth": 2,
            "linecolor": "white",
            "showbackground": true,
            "ticks": "",
            "zerolinecolor": "white"
           },
           "zaxis": {
            "backgroundcolor": "#E5ECF6",
            "gridcolor": "white",
            "gridwidth": 2,
            "linecolor": "white",
            "showbackground": true,
            "ticks": "",
            "zerolinecolor": "white"
           }
          },
          "shapedefaults": {
           "line": {
            "color": "#2a3f5f"
           }
          },
          "ternary": {
           "aaxis": {
            "gridcolor": "white",
            "linecolor": "white",
            "ticks": ""
           },
           "baxis": {
            "gridcolor": "white",
            "linecolor": "white",
            "ticks": ""
           },
           "bgcolor": "#E5ECF6",
           "caxis": {
            "gridcolor": "white",
            "linecolor": "white",
            "ticks": ""
           }
          },
          "title": {
           "x": 0.05
          },
          "xaxis": {
           "automargin": true,
           "gridcolor": "white",
           "linecolor": "white",
           "ticks": "",
           "title": {
            "standoff": 15
           },
           "zerolinecolor": "white",
           "zerolinewidth": 2
          },
          "yaxis": {
           "automargin": true,
           "gridcolor": "white",
           "linecolor": "white",
           "ticks": "",
           "title": {
            "standoff": 15
           },
           "zerolinecolor": "white",
           "zerolinewidth": 2
          }
         }
        }
       }
      }
     },
     "metadata": {},
     "output_type": "display_data"
    },
    {
     "data": {
      "text/html": [
       "<div>\n",
       "<style scoped>\n",
       "    .dataframe tbody tr th:only-of-type {\n",
       "        vertical-align: middle;\n",
       "    }\n",
       "\n",
       "    .dataframe tbody tr th {\n",
       "        vertical-align: top;\n",
       "    }\n",
       "\n",
       "    .dataframe thead th {\n",
       "        text-align: right;\n",
       "    }\n",
       "</style>\n",
       "<table border=\"1\" class=\"dataframe\">\n",
       "  <thead>\n",
       "    <tr style=\"text-align: right;\">\n",
       "      <th></th>\n",
       "      <th>Total_confirmados</th>\n",
       "    </tr>\n",
       "    <tr>\n",
       "      <th>state</th>\n",
       "      <th></th>\n",
       "    </tr>\n",
       "  </thead>\n",
       "  <tbody>\n",
       "    <tr>\n",
       "      <th>AK</th>\n",
       "      <td>2555.0</td>\n",
       "    </tr>\n",
       "    <tr>\n",
       "      <th>AL</th>\n",
       "      <td>70433.0</td>\n",
       "    </tr>\n",
       "    <tr>\n",
       "      <th>AR</th>\n",
       "      <td>43400.0</td>\n",
       "    </tr>\n",
       "    <tr>\n",
       "      <th>AZ</th>\n",
       "      <td>67477.0</td>\n",
       "    </tr>\n",
       "    <tr>\n",
       "      <th>CA</th>\n",
       "      <td>261854.0</td>\n",
       "    </tr>\n",
       "    <tr>\n",
       "      <th>CO</th>\n",
       "      <td>34102.0</td>\n",
       "    </tr>\n",
       "    <tr>\n",
       "      <th>CT</th>\n",
       "      <td>13887.0</td>\n",
       "    </tr>\n",
       "    <tr>\n",
       "      <th>DC</th>\n",
       "      <td>5569.0</td>\n",
       "    </tr>\n",
       "    <tr>\n",
       "      <th>DE</th>\n",
       "      <td>4164.0</td>\n",
       "    </tr>\n",
       "    <tr>\n",
       "      <th>FL</th>\n",
       "      <td>176144.0</td>\n",
       "    </tr>\n",
       "    <tr>\n",
       "      <th>GA</th>\n",
       "      <td>96114.0</td>\n",
       "    </tr>\n",
       "    <tr>\n",
       "      <th>HI</th>\n",
       "      <td>3695.0</td>\n",
       "    </tr>\n",
       "    <tr>\n",
       "      <th>IA</th>\n",
       "      <td>23716.0</td>\n",
       "    </tr>\n",
       "    <tr>\n",
       "      <th>ID</th>\n",
       "      <td>11246.0</td>\n",
       "    </tr>\n",
       "    <tr>\n",
       "      <th>IL</th>\n",
       "      <td>89320.0</td>\n",
       "    </tr>\n",
       "    <tr>\n",
       "      <th>IN</th>\n",
       "      <td>66166.0</td>\n",
       "    </tr>\n",
       "    <tr>\n",
       "      <th>KS</th>\n",
       "      <td>24590.0</td>\n",
       "    </tr>\n",
       "    <tr>\n",
       "      <th>KY</th>\n",
       "      <td>40327.0</td>\n",
       "    </tr>\n",
       "    <tr>\n",
       "      <th>LA</th>\n",
       "      <td>50888.0</td>\n",
       "    </tr>\n",
       "    <tr>\n",
       "      <th>MA</th>\n",
       "      <td>20996.0</td>\n",
       "    </tr>\n",
       "    <tr>\n",
       "      <th>MD</th>\n",
       "      <td>31380.0</td>\n",
       "    </tr>\n",
       "    <tr>\n",
       "      <th>ME</th>\n",
       "      <td>3255.0</td>\n",
       "    </tr>\n",
       "    <tr>\n",
       "      <th>MI</th>\n",
       "      <td>59827.0</td>\n",
       "    </tr>\n",
       "    <tr>\n",
       "      <th>MN</th>\n",
       "      <td>29607.0</td>\n",
       "    </tr>\n",
       "    <tr>\n",
       "      <th>MO</th>\n",
       "      <td>71485.0</td>\n",
       "    </tr>\n",
       "    <tr>\n",
       "      <th>MS</th>\n",
       "      <td>38672.0</td>\n",
       "    </tr>\n",
       "    <tr>\n",
       "      <th>MT</th>\n",
       "      <td>8127.0</td>\n",
       "    </tr>\n",
       "    <tr>\n",
       "      <th>NC</th>\n",
       "      <td>65853.0</td>\n",
       "    </tr>\n",
       "    <tr>\n",
       "      <th>ND</th>\n",
       "      <td>6036.0</td>\n",
       "    </tr>\n",
       "    <tr>\n",
       "      <th>NE</th>\n",
       "      <td>19088.0</td>\n",
       "    </tr>\n",
       "    <tr>\n",
       "      <th>NH</th>\n",
       "      <td>2899.0</td>\n",
       "    </tr>\n",
       "    <tr>\n",
       "      <th>NJ</th>\n",
       "      <td>38590.0</td>\n",
       "    </tr>\n",
       "    <tr>\n",
       "      <th>NM</th>\n",
       "      <td>17612.0</td>\n",
       "    </tr>\n",
       "    <tr>\n",
       "      <th>NV</th>\n",
       "      <td>43062.0</td>\n",
       "    </tr>\n",
       "    <tr>\n",
       "      <th>NY</th>\n",
       "      <td>61949.0</td>\n",
       "    </tr>\n",
       "    <tr>\n",
       "      <th>OH</th>\n",
       "      <td>89686.0</td>\n",
       "    </tr>\n",
       "    <tr>\n",
       "      <th>OK</th>\n",
       "      <td>50303.0</td>\n",
       "    </tr>\n",
       "    <tr>\n",
       "      <th>OR</th>\n",
       "      <td>9533.0</td>\n",
       "    </tr>\n",
       "    <tr>\n",
       "      <th>PA</th>\n",
       "      <td>84480.0</td>\n",
       "    </tr>\n",
       "    <tr>\n",
       "      <th>PR</th>\n",
       "      <td>9853.0</td>\n",
       "    </tr>\n",
       "    <tr>\n",
       "      <th>RI</th>\n",
       "      <td>4136.0</td>\n",
       "    </tr>\n",
       "    <tr>\n",
       "      <th>SC</th>\n",
       "      <td>40014.0</td>\n",
       "    </tr>\n",
       "    <tr>\n",
       "      <th>SD</th>\n",
       "      <td>8672.0</td>\n",
       "    </tr>\n",
       "    <tr>\n",
       "      <th>TN</th>\n",
       "      <td>77149.0</td>\n",
       "    </tr>\n",
       "    <tr>\n",
       "      <th>TX</th>\n",
       "      <td>336158.0</td>\n",
       "    </tr>\n",
       "    <tr>\n",
       "      <th>UT</th>\n",
       "      <td>18600.0</td>\n",
       "    </tr>\n",
       "    <tr>\n",
       "      <th>VA</th>\n",
       "      <td>39822.0</td>\n",
       "    </tr>\n",
       "    <tr>\n",
       "      <th>VI</th>\n",
       "      <td>301.0</td>\n",
       "    </tr>\n",
       "    <tr>\n",
       "      <th>VT</th>\n",
       "      <td>390.0</td>\n",
       "    </tr>\n",
       "    <tr>\n",
       "      <th>WA</th>\n",
       "      <td>21326.0</td>\n",
       "    </tr>\n",
       "    <tr>\n",
       "      <th>WI</th>\n",
       "      <td>42920.0</td>\n",
       "    </tr>\n",
       "    <tr>\n",
       "      <th>WV</th>\n",
       "      <td>15883.0</td>\n",
       "    </tr>\n",
       "    <tr>\n",
       "      <th>WY</th>\n",
       "      <td>3287.0</td>\n",
       "    </tr>\n",
       "  </tbody>\n",
       "</table>\n",
       "</div>"
      ],
      "text/plain": [
       "       Total_confirmados\n",
       "state                   \n",
       "AK                2555.0\n",
       "AL               70433.0\n",
       "AR               43400.0\n",
       "AZ               67477.0\n",
       "CA              261854.0\n",
       "CO               34102.0\n",
       "CT               13887.0\n",
       "DC                5569.0\n",
       "DE                4164.0\n",
       "FL              176144.0\n",
       "GA               96114.0\n",
       "HI                3695.0\n",
       "IA               23716.0\n",
       "ID               11246.0\n",
       "IL               89320.0\n",
       "IN               66166.0\n",
       "KS               24590.0\n",
       "KY               40327.0\n",
       "LA               50888.0\n",
       "MA               20996.0\n",
       "MD               31380.0\n",
       "ME                3255.0\n",
       "MI               59827.0\n",
       "MN               29607.0\n",
       "MO               71485.0\n",
       "MS               38672.0\n",
       "MT                8127.0\n",
       "NC               65853.0\n",
       "ND                6036.0\n",
       "NE               19088.0\n",
       "NH                2899.0\n",
       "NJ               38590.0\n",
       "NM               17612.0\n",
       "NV               43062.0\n",
       "NY               61949.0\n",
       "OH               89686.0\n",
       "OK               50303.0\n",
       "OR                9533.0\n",
       "PA               84480.0\n",
       "PR                9853.0\n",
       "RI                4136.0\n",
       "SC               40014.0\n",
       "SD                8672.0\n",
       "TN               77149.0\n",
       "TX              336158.0\n",
       "UT               18600.0\n",
       "VA               39822.0\n",
       "VI                 301.0\n",
       "VT                 390.0\n",
       "WA               21326.0\n",
       "WI               42920.0\n",
       "WV               15883.0\n",
       "WY                3287.0"
      ]
     },
     "execution_count": 27,
     "metadata": {},
     "output_type": "execute_result"
    }
   ],
   "source": [
    "df_2021 = df[(df['date'] >='2020-01-01T00:00:00.000' )&(df['date'] <='2020-12-31T00:00:00.000')]\n",
    "df_2021.rename(columns={'deaths_covid':'Muertes_por_covid'},inplace=True)\n",
    "df_2021['Muertes_por_covid'].fillna(0, inplace=True)\n",
    "df_2021['Muertes_por_covid'].astype(float)\n",
    "estados5 =df_2021.groupby(['state'])[['Muertes_por_covid']].sum()\n",
    "estados5['Muertes_por_covid'] = round((estados5['Muertes_por_covid']),0)\n",
    "data = dict(type = 'choropleth', \n",
    " locations = estados5.index, \n",
    " locationmode = 'USA-states', \n",
    " z = estados5['Muertes_por_covid'], \n",
    " )\n",
    "layout = dict(geo = {'scope':'usa'})\n",
    "x = pg.Figure(data = [data] ,\n",
    "layout = layout)\n",
    "\n",
    "a =po.iplot(x)\n",
    "estados"
   ]
  },
  {
   "cell_type": "code",
   "execution_count": 28,
   "metadata": {},
   "outputs": [],
   "source": [
    "#po.init_notebook_mode(connected = True)\n"
   ]
  },
  {
   "cell_type": "markdown",
   "metadata": {},
   "source": [
    "7 - ¿Qué relación presenta la falta de personal médico, con la cantidad de muertes por covid durante el año 2021"
   ]
  },
  {
   "cell_type": "code",
   "execution_count": 29,
   "metadata": {},
   "outputs": [
    {
     "name": "stderr",
     "output_type": "stream",
     "text": [
      "C:\\Users\\Alfredo BTP\\AppData\\Local\\Temp\\ipykernel_38404\\1549305601.py:1: SettingWithCopyWarning:\n",
      "\n",
      "\n",
      "A value is trying to be set on a copy of a slice from a DataFrame\n",
      "\n",
      "See the caveats in the documentation: https://pandas.pydata.org/pandas-docs/stable/user_guide/indexing.html#returning-a-view-versus-a-copy\n",
      "\n"
     ]
    },
    {
     "data": {
      "application/vnd.plotly.v1+json": {
       "config": {
        "plotlyServerURL": "https://plot.ly"
       },
       "data": [
        {
         "hovertemplate": "x=%{x}<br>y=%{y}<extra></extra>",
         "legendgroup": "",
         "line": {
          "color": "#636efa",
          "dash": "solid"
         },
         "marker": {
          "symbol": "circle"
         },
         "mode": "lines",
         "name": "",
         "orientation": "v",
         "showlegend": false,
         "type": "scatter",
         "x": [
          "2020-01-01T00:00:00.000",
          "2020-01-02T00:00:00.000",
          "2020-01-03T00:00:00.000",
          "2020-01-04T00:00:00.000",
          "2020-01-05T00:00:00.000",
          "2020-01-06T00:00:00.000",
          "2020-01-07T00:00:00.000",
          "2020-01-08T00:00:00.000",
          "2020-01-09T00:00:00.000",
          "2020-01-10T00:00:00.000",
          "2020-01-11T00:00:00.000",
          "2020-01-12T00:00:00.000",
          "2020-01-13T00:00:00.000",
          "2020-01-14T00:00:00.000",
          "2020-01-15T00:00:00.000",
          "2020-01-16T00:00:00.000",
          "2020-01-17T00:00:00.000",
          "2020-01-18T00:00:00.000",
          "2020-01-19T00:00:00.000",
          "2020-01-20T00:00:00.000",
          "2020-01-21T00:00:00.000",
          "2020-01-22T00:00:00.000",
          "2020-01-23T00:00:00.000",
          "2020-01-24T00:00:00.000",
          "2020-01-25T00:00:00.000",
          "2020-01-26T00:00:00.000",
          "2020-01-27T00:00:00.000",
          "2020-01-28T00:00:00.000",
          "2020-01-29T00:00:00.000",
          "2020-01-30T00:00:00.000",
          "2020-01-31T00:00:00.000",
          "2020-02-01T00:00:00.000",
          "2020-02-02T00:00:00.000",
          "2020-02-03T00:00:00.000",
          "2020-02-04T00:00:00.000",
          "2020-02-05T00:00:00.000",
          "2020-02-06T00:00:00.000",
          "2020-02-07T00:00:00.000",
          "2020-02-08T00:00:00.000",
          "2020-02-09T00:00:00.000",
          "2020-02-10T00:00:00.000",
          "2020-02-11T00:00:00.000",
          "2020-02-12T00:00:00.000",
          "2020-02-13T00:00:00.000",
          "2020-02-14T00:00:00.000",
          "2020-02-15T00:00:00.000",
          "2020-02-16T00:00:00.000",
          "2020-02-17T00:00:00.000",
          "2020-02-18T00:00:00.000",
          "2020-02-19T00:00:00.000",
          "2020-02-20T00:00:00.000",
          "2020-02-21T00:00:00.000",
          "2020-02-22T00:00:00.000",
          "2020-02-23T00:00:00.000",
          "2020-02-24T00:00:00.000",
          "2020-02-25T00:00:00.000",
          "2020-02-26T00:00:00.000",
          "2020-02-27T00:00:00.000",
          "2020-02-28T00:00:00.000",
          "2020-02-29T00:00:00.000",
          "2020-03-01T00:00:00.000",
          "2020-03-02T00:00:00.000",
          "2020-03-03T00:00:00.000",
          "2020-03-04T00:00:00.000",
          "2020-03-05T00:00:00.000",
          "2020-03-06T00:00:00.000",
          "2020-03-07T00:00:00.000",
          "2020-03-08T00:00:00.000",
          "2020-03-09T00:00:00.000",
          "2020-03-10T00:00:00.000",
          "2020-03-11T00:00:00.000",
          "2020-03-12T00:00:00.000",
          "2020-03-13T00:00:00.000",
          "2020-03-14T00:00:00.000",
          "2020-03-15T00:00:00.000",
          "2020-03-16T00:00:00.000",
          "2020-03-17T00:00:00.000",
          "2020-03-18T00:00:00.000",
          "2020-03-19T00:00:00.000",
          "2020-03-20T00:00:00.000",
          "2020-03-21T00:00:00.000",
          "2020-03-22T00:00:00.000",
          "2020-03-23T00:00:00.000",
          "2020-03-24T00:00:00.000",
          "2020-03-25T00:00:00.000",
          "2020-03-26T00:00:00.000",
          "2020-03-27T00:00:00.000",
          "2020-03-28T00:00:00.000",
          "2020-03-29T00:00:00.000",
          "2020-03-30T00:00:00.000",
          "2020-03-31T00:00:00.000",
          "2020-04-01T00:00:00.000",
          "2020-04-02T00:00:00.000",
          "2020-04-03T00:00:00.000",
          "2020-04-04T00:00:00.000",
          "2020-04-05T00:00:00.000",
          "2020-04-06T00:00:00.000",
          "2020-04-07T00:00:00.000",
          "2020-04-08T00:00:00.000",
          "2020-04-09T00:00:00.000",
          "2020-04-10T00:00:00.000",
          "2020-04-11T00:00:00.000",
          "2020-04-12T00:00:00.000",
          "2020-04-13T00:00:00.000",
          "2020-04-14T00:00:00.000",
          "2020-04-15T00:00:00.000",
          "2020-04-16T00:00:00.000",
          "2020-04-17T00:00:00.000",
          "2020-04-18T00:00:00.000",
          "2020-04-19T00:00:00.000",
          "2020-04-20T00:00:00.000",
          "2020-04-21T00:00:00.000",
          "2020-04-22T00:00:00.000",
          "2020-04-23T00:00:00.000",
          "2020-04-24T00:00:00.000",
          "2020-04-25T00:00:00.000",
          "2020-04-26T00:00:00.000",
          "2020-04-27T00:00:00.000",
          "2020-04-28T00:00:00.000",
          "2020-04-29T00:00:00.000",
          "2020-04-30T00:00:00.000",
          "2020-05-01T00:00:00.000",
          "2020-05-02T00:00:00.000",
          "2020-05-03T00:00:00.000",
          "2020-05-04T00:00:00.000",
          "2020-05-05T00:00:00.000",
          "2020-05-06T00:00:00.000",
          "2020-05-07T00:00:00.000",
          "2020-05-08T00:00:00.000",
          "2020-05-09T00:00:00.000",
          "2020-05-10T00:00:00.000",
          "2020-05-11T00:00:00.000",
          "2020-05-12T00:00:00.000",
          "2020-05-13T00:00:00.000",
          "2020-05-14T00:00:00.000",
          "2020-05-15T00:00:00.000",
          "2020-05-16T00:00:00.000",
          "2020-05-17T00:00:00.000",
          "2020-05-18T00:00:00.000",
          "2020-05-19T00:00:00.000",
          "2020-05-20T00:00:00.000",
          "2020-05-21T00:00:00.000",
          "2020-05-22T00:00:00.000",
          "2020-05-23T00:00:00.000",
          "2020-05-24T00:00:00.000",
          "2020-05-25T00:00:00.000",
          "2020-05-26T00:00:00.000",
          "2020-05-27T00:00:00.000",
          "2020-05-28T00:00:00.000",
          "2020-05-29T00:00:00.000",
          "2020-05-30T00:00:00.000",
          "2020-05-31T00:00:00.000",
          "2020-06-01T00:00:00.000",
          "2020-06-02T00:00:00.000",
          "2020-06-03T00:00:00.000",
          "2020-06-04T00:00:00.000",
          "2020-06-05T00:00:00.000",
          "2020-06-06T00:00:00.000",
          "2020-06-07T00:00:00.000",
          "2020-06-08T00:00:00.000",
          "2020-06-09T00:00:00.000",
          "2020-06-10T00:00:00.000",
          "2020-06-11T00:00:00.000",
          "2020-06-12T00:00:00.000",
          "2020-06-13T00:00:00.000",
          "2020-06-14T00:00:00.000",
          "2020-06-15T00:00:00.000",
          "2020-06-16T00:00:00.000",
          "2020-06-17T00:00:00.000",
          "2020-06-18T00:00:00.000",
          "2020-06-19T00:00:00.000",
          "2020-06-20T00:00:00.000",
          "2020-06-21T00:00:00.000",
          "2020-06-22T00:00:00.000",
          "2020-06-23T00:00:00.000",
          "2020-06-24T00:00:00.000",
          "2020-06-25T00:00:00.000",
          "2020-06-26T00:00:00.000",
          "2020-06-27T00:00:00.000",
          "2020-06-28T00:00:00.000",
          "2020-06-29T00:00:00.000",
          "2020-06-30T00:00:00.000",
          "2020-07-01T00:00:00.000",
          "2020-07-02T00:00:00.000",
          "2020-07-03T00:00:00.000",
          "2020-07-04T00:00:00.000",
          "2020-07-05T00:00:00.000",
          "2020-07-06T00:00:00.000",
          "2020-07-07T00:00:00.000",
          "2020-07-08T00:00:00.000",
          "2020-07-09T00:00:00.000",
          "2020-07-10T00:00:00.000",
          "2020-07-11T00:00:00.000",
          "2020-07-12T00:00:00.000",
          "2020-07-13T00:00:00.000",
          "2020-07-14T00:00:00.000",
          "2020-07-15T00:00:00.000",
          "2020-07-16T00:00:00.000",
          "2020-07-17T00:00:00.000",
          "2020-07-18T00:00:00.000",
          "2020-07-19T00:00:00.000",
          "2020-07-20T00:00:00.000",
          "2020-07-21T00:00:00.000",
          "2020-07-22T00:00:00.000",
          "2020-07-23T00:00:00.000",
          "2020-07-24T00:00:00.000",
          "2020-07-25T00:00:00.000",
          "2020-07-26T00:00:00.000",
          "2020-07-27T00:00:00.000",
          "2020-07-28T00:00:00.000",
          "2020-07-29T00:00:00.000",
          "2020-07-30T00:00:00.000",
          "2020-07-31T00:00:00.000",
          "2020-08-01T00:00:00.000",
          "2020-08-02T00:00:00.000",
          "2020-08-03T00:00:00.000",
          "2020-08-04T00:00:00.000",
          "2020-08-05T00:00:00.000",
          "2020-08-06T00:00:00.000",
          "2020-08-07T00:00:00.000",
          "2020-08-08T00:00:00.000",
          "2020-08-09T00:00:00.000",
          "2020-08-10T00:00:00.000",
          "2020-08-11T00:00:00.000",
          "2020-08-12T00:00:00.000",
          "2020-08-13T00:00:00.000",
          "2020-08-14T00:00:00.000",
          "2020-08-15T00:00:00.000",
          "2020-08-16T00:00:00.000",
          "2020-08-17T00:00:00.000",
          "2020-08-18T00:00:00.000",
          "2020-08-19T00:00:00.000",
          "2020-08-20T00:00:00.000",
          "2020-08-21T00:00:00.000",
          "2020-08-22T00:00:00.000",
          "2020-08-23T00:00:00.000",
          "2020-08-24T00:00:00.000",
          "2020-08-25T00:00:00.000",
          "2020-08-26T00:00:00.000",
          "2020-08-27T00:00:00.000",
          "2020-08-28T00:00:00.000",
          "2020-08-29T00:00:00.000",
          "2020-08-30T00:00:00.000",
          "2020-08-31T00:00:00.000",
          "2020-09-01T00:00:00.000",
          "2020-09-02T00:00:00.000",
          "2020-09-03T00:00:00.000",
          "2020-09-04T00:00:00.000",
          "2020-09-05T00:00:00.000",
          "2020-09-06T00:00:00.000",
          "2020-09-07T00:00:00.000",
          "2020-09-08T00:00:00.000",
          "2020-09-09T00:00:00.000",
          "2020-09-10T00:00:00.000",
          "2020-09-11T00:00:00.000",
          "2020-09-12T00:00:00.000",
          "2020-09-13T00:00:00.000",
          "2020-09-14T00:00:00.000",
          "2020-09-15T00:00:00.000",
          "2020-09-16T00:00:00.000",
          "2020-09-17T00:00:00.000",
          "2020-09-18T00:00:00.000",
          "2020-09-19T00:00:00.000",
          "2020-09-20T00:00:00.000",
          "2020-09-21T00:00:00.000",
          "2020-09-22T00:00:00.000",
          "2020-09-23T00:00:00.000",
          "2020-09-24T00:00:00.000",
          "2020-09-25T00:00:00.000",
          "2020-09-26T00:00:00.000",
          "2020-09-27T00:00:00.000",
          "2020-09-28T00:00:00.000",
          "2020-09-29T00:00:00.000",
          "2020-09-30T00:00:00.000",
          "2020-10-01T00:00:00.000",
          "2020-10-02T00:00:00.000",
          "2020-10-03T00:00:00.000",
          "2020-10-04T00:00:00.000",
          "2020-10-05T00:00:00.000",
          "2020-10-06T00:00:00.000",
          "2020-10-07T00:00:00.000",
          "2020-10-08T00:00:00.000",
          "2020-10-09T00:00:00.000",
          "2020-10-10T00:00:00.000",
          "2020-10-11T00:00:00.000",
          "2020-10-12T00:00:00.000",
          "2020-10-13T00:00:00.000",
          "2020-10-14T00:00:00.000",
          "2020-10-15T00:00:00.000",
          "2020-10-16T00:00:00.000",
          "2020-10-17T00:00:00.000",
          "2020-10-18T00:00:00.000",
          "2020-10-19T00:00:00.000",
          "2020-10-20T00:00:00.000",
          "2020-10-21T00:00:00.000",
          "2020-10-22T00:00:00.000",
          "2020-10-23T00:00:00.000",
          "2020-10-24T00:00:00.000",
          "2020-10-25T00:00:00.000",
          "2020-10-26T00:00:00.000",
          "2020-10-27T00:00:00.000",
          "2020-10-28T00:00:00.000",
          "2020-10-29T00:00:00.000",
          "2020-10-30T00:00:00.000",
          "2020-10-31T00:00:00.000",
          "2020-11-01T00:00:00.000",
          "2020-11-02T00:00:00.000",
          "2020-11-03T00:00:00.000",
          "2020-11-04T00:00:00.000",
          "2020-11-05T00:00:00.000",
          "2020-11-06T00:00:00.000",
          "2020-11-07T00:00:00.000",
          "2020-11-08T00:00:00.000",
          "2020-11-09T00:00:00.000",
          "2020-11-10T00:00:00.000",
          "2020-11-11T00:00:00.000",
          "2020-11-12T00:00:00.000",
          "2020-11-13T00:00:00.000",
          "2020-11-14T00:00:00.000",
          "2020-11-15T00:00:00.000",
          "2020-11-16T00:00:00.000",
          "2020-11-17T00:00:00.000",
          "2020-11-18T00:00:00.000",
          "2020-11-19T00:00:00.000",
          "2020-11-20T00:00:00.000",
          "2020-11-21T00:00:00.000",
          "2020-11-22T00:00:00.000",
          "2020-11-23T00:00:00.000",
          "2020-11-24T00:00:00.000",
          "2020-11-25T00:00:00.000",
          "2020-11-26T00:00:00.000",
          "2020-11-27T00:00:00.000",
          "2020-11-28T00:00:00.000",
          "2020-11-29T00:00:00.000",
          "2020-11-30T00:00:00.000",
          "2020-12-01T00:00:00.000",
          "2020-12-02T00:00:00.000",
          "2020-12-03T00:00:00.000",
          "2020-12-04T00:00:00.000",
          "2020-12-05T00:00:00.000",
          "2020-12-06T00:00:00.000",
          "2020-12-07T00:00:00.000",
          "2020-12-08T00:00:00.000",
          "2020-12-09T00:00:00.000",
          "2020-12-10T00:00:00.000",
          "2020-12-11T00:00:00.000",
          "2020-12-12T00:00:00.000",
          "2020-12-13T00:00:00.000",
          "2020-12-14T00:00:00.000",
          "2020-12-15T00:00:00.000",
          "2020-12-16T00:00:00.000",
          "2020-12-17T00:00:00.000",
          "2020-12-18T00:00:00.000",
          "2020-12-19T00:00:00.000",
          "2020-12-20T00:00:00.000",
          "2020-12-21T00:00:00.000",
          "2020-12-22T00:00:00.000",
          "2020-12-23T00:00:00.000",
          "2020-12-24T00:00:00.000",
          "2020-12-25T00:00:00.000",
          "2020-12-26T00:00:00.000",
          "2020-12-27T00:00:00.000",
          "2020-12-28T00:00:00.000",
          "2020-12-29T00:00:00.000",
          "2020-12-30T00:00:00.000",
          "2020-12-31T00:00:00.000"
         ],
         "xaxis": "x",
         "y": [
          0,
          29,
          29,
          29,
          29,
          29,
          0,
          0,
          0,
          0,
          0,
          0,
          0,
          0,
          0,
          0,
          0,
          0,
          0,
          0,
          0,
          0,
          0,
          0,
          0,
          0,
          0,
          0,
          0,
          0,
          0,
          0,
          0,
          0,
          0,
          0,
          0,
          0,
          0,
          0,
          0,
          0,
          0,
          0,
          0,
          0,
          0,
          0,
          0,
          0,
          0,
          0,
          0,
          0,
          0,
          0,
          0,
          0,
          0,
          0,
          0,
          1,
          6,
          0,
          0,
          0,
          0,
          1,
          1,
          1,
          0,
          2,
          1,
          3,
          2,
          4,
          4,
          8,
          12,
          8,
          10,
          17,
          21,
          18,
          34,
          97,
          52,
          64,
          80,
          258,
          413,
          640,
          826,
          960,
          1095,
          1017,
          1077,
          1098,
          1169,
          1264,
          1216,
          1225,
          1238,
          1378,
          1550,
          1182,
          1106,
          1145,
          1363,
          796,
          1020,
          963,
          1037,
          1077,
          1200,
          1131,
          1032,
          1081,
          1203,
          1289,
          1194,
          1302,
          1229,
          1067,
          1149,
          1118,
          1061,
          1114,
          1170,
          915,
          879,
          983,
          963,
          1036,
          1042,
          632,
          606,
          585,
          2729,
          2727,
          2767,
          2758,
          2782,
          2795,
          2734,
          2786,
          2738,
          2784,
          2743,
          2616,
          2543,
          2531,
          2578,
          2567,
          2697,
          371,
          431,
          376,
          343,
          397,
          379,
          385,
          407,
          331,
          284,
          299,
          351,
          338,
          294,
          303,
          259,
          256,
          264,
          371,
          319,
          359,
          406,
          404,
          410,
          443,
          485,
          434,
          437,
          362,
          437,
          434,
          466,
          512,
          552,
          471,
          429,
          413,
          471,
          449,
          424,
          332,
          648,
          526,
          532,
          440,
          394,
          497,
          570,
          739,
          1079,
          838,
          804,
          874,
          727,
          767,
          901,
          1305,
          1348,
          1314,
          1329,
          1288,
          1230,
          1329,
          1249,
          1275,
          1270,
          1216,
          1246,
          1241,
          1274,
          1220,
          1254,
          1223,
          1143,
          1177,
          1137,
          1189,
          1232,
          664,
          606,
          530,
          554,
          648,
          635,
          610,
          568,
          518,
          551,
          539,
          605,
          602,
          543,
          522,
          540,
          487,
          452,
          544,
          887,
          541,
          491,
          479,
          500,
          461,
          510,
          557,
          498,
          464,
          465,
          466,
          468,
          486,
          453,
          475,
          457,
          444,
          440,
          424,
          551,
          432,
          462,
          509,
          500,
          418,
          559,
          485,
          477,
          506,
          495,
          520,
          473,
          498,
          501,
          488,
          496,
          584,
          518,
          539,
          556,
          564,
          558,
          554,
          531,
          505,
          507,
          532,
          526,
          785,
          769,
          1246,
          1303,
          1204,
          1276,
          845,
          858,
          934,
          987,
          936,
          935,
          998,
          1016,
          1070,
          928,
          1292,
          913,
          918,
          1024,
          1096,
          1151,
          1109,
          1212,
          1123,
          1062,
          1272,
          1338,
          1413,
          1307,
          1207,
          1354,
          1368,
          1335,
          1447,
          1573,
          1618,
          1615,
          1550,
          1555,
          1646,
          1657,
          1758,
          1831,
          1671,
          1628,
          1555,
          1730,
          1832,
          1844,
          1854,
          1963,
          1997,
          1790,
          2043,
          2094,
          2139,
          1914,
          1930,
          1731,
          1922,
          2168,
          2181,
          2171,
          2267
         ],
         "yaxis": "y"
        }
       ],
       "layout": {
        "height": 600,
        "legend": {
         "tracegroupgap": 0
        },
        "template": {
         "data": {
          "bar": [
           {
            "error_x": {
             "color": "#2a3f5f"
            },
            "error_y": {
             "color": "#2a3f5f"
            },
            "marker": {
             "line": {
              "color": "#E5ECF6",
              "width": 0.5
             },
             "pattern": {
              "fillmode": "overlay",
              "size": 10,
              "solidity": 0.2
             }
            },
            "type": "bar"
           }
          ],
          "barpolar": [
           {
            "marker": {
             "line": {
              "color": "#E5ECF6",
              "width": 0.5
             },
             "pattern": {
              "fillmode": "overlay",
              "size": 10,
              "solidity": 0.2
             }
            },
            "type": "barpolar"
           }
          ],
          "carpet": [
           {
            "aaxis": {
             "endlinecolor": "#2a3f5f",
             "gridcolor": "white",
             "linecolor": "white",
             "minorgridcolor": "white",
             "startlinecolor": "#2a3f5f"
            },
            "baxis": {
             "endlinecolor": "#2a3f5f",
             "gridcolor": "white",
             "linecolor": "white",
             "minorgridcolor": "white",
             "startlinecolor": "#2a3f5f"
            },
            "type": "carpet"
           }
          ],
          "choropleth": [
           {
            "colorbar": {
             "outlinewidth": 0,
             "ticks": ""
            },
            "type": "choropleth"
           }
          ],
          "contour": [
           {
            "colorbar": {
             "outlinewidth": 0,
             "ticks": ""
            },
            "colorscale": [
             [
              0,
              "#0d0887"
             ],
             [
              0.1111111111111111,
              "#46039f"
             ],
             [
              0.2222222222222222,
              "#7201a8"
             ],
             [
              0.3333333333333333,
              "#9c179e"
             ],
             [
              0.4444444444444444,
              "#bd3786"
             ],
             [
              0.5555555555555556,
              "#d8576b"
             ],
             [
              0.6666666666666666,
              "#ed7953"
             ],
             [
              0.7777777777777778,
              "#fb9f3a"
             ],
             [
              0.8888888888888888,
              "#fdca26"
             ],
             [
              1,
              "#f0f921"
             ]
            ],
            "type": "contour"
           }
          ],
          "contourcarpet": [
           {
            "colorbar": {
             "outlinewidth": 0,
             "ticks": ""
            },
            "type": "contourcarpet"
           }
          ],
          "heatmap": [
           {
            "colorbar": {
             "outlinewidth": 0,
             "ticks": ""
            },
            "colorscale": [
             [
              0,
              "#0d0887"
             ],
             [
              0.1111111111111111,
              "#46039f"
             ],
             [
              0.2222222222222222,
              "#7201a8"
             ],
             [
              0.3333333333333333,
              "#9c179e"
             ],
             [
              0.4444444444444444,
              "#bd3786"
             ],
             [
              0.5555555555555556,
              "#d8576b"
             ],
             [
              0.6666666666666666,
              "#ed7953"
             ],
             [
              0.7777777777777778,
              "#fb9f3a"
             ],
             [
              0.8888888888888888,
              "#fdca26"
             ],
             [
              1,
              "#f0f921"
             ]
            ],
            "type": "heatmap"
           }
          ],
          "heatmapgl": [
           {
            "colorbar": {
             "outlinewidth": 0,
             "ticks": ""
            },
            "colorscale": [
             [
              0,
              "#0d0887"
             ],
             [
              0.1111111111111111,
              "#46039f"
             ],
             [
              0.2222222222222222,
              "#7201a8"
             ],
             [
              0.3333333333333333,
              "#9c179e"
             ],
             [
              0.4444444444444444,
              "#bd3786"
             ],
             [
              0.5555555555555556,
              "#d8576b"
             ],
             [
              0.6666666666666666,
              "#ed7953"
             ],
             [
              0.7777777777777778,
              "#fb9f3a"
             ],
             [
              0.8888888888888888,
              "#fdca26"
             ],
             [
              1,
              "#f0f921"
             ]
            ],
            "type": "heatmapgl"
           }
          ],
          "histogram": [
           {
            "marker": {
             "pattern": {
              "fillmode": "overlay",
              "size": 10,
              "solidity": 0.2
             }
            },
            "type": "histogram"
           }
          ],
          "histogram2d": [
           {
            "colorbar": {
             "outlinewidth": 0,
             "ticks": ""
            },
            "colorscale": [
             [
              0,
              "#0d0887"
             ],
             [
              0.1111111111111111,
              "#46039f"
             ],
             [
              0.2222222222222222,
              "#7201a8"
             ],
             [
              0.3333333333333333,
              "#9c179e"
             ],
             [
              0.4444444444444444,
              "#bd3786"
             ],
             [
              0.5555555555555556,
              "#d8576b"
             ],
             [
              0.6666666666666666,
              "#ed7953"
             ],
             [
              0.7777777777777778,
              "#fb9f3a"
             ],
             [
              0.8888888888888888,
              "#fdca26"
             ],
             [
              1,
              "#f0f921"
             ]
            ],
            "type": "histogram2d"
           }
          ],
          "histogram2dcontour": [
           {
            "colorbar": {
             "outlinewidth": 0,
             "ticks": ""
            },
            "colorscale": [
             [
              0,
              "#0d0887"
             ],
             [
              0.1111111111111111,
              "#46039f"
             ],
             [
              0.2222222222222222,
              "#7201a8"
             ],
             [
              0.3333333333333333,
              "#9c179e"
             ],
             [
              0.4444444444444444,
              "#bd3786"
             ],
             [
              0.5555555555555556,
              "#d8576b"
             ],
             [
              0.6666666666666666,
              "#ed7953"
             ],
             [
              0.7777777777777778,
              "#fb9f3a"
             ],
             [
              0.8888888888888888,
              "#fdca26"
             ],
             [
              1,
              "#f0f921"
             ]
            ],
            "type": "histogram2dcontour"
           }
          ],
          "mesh3d": [
           {
            "colorbar": {
             "outlinewidth": 0,
             "ticks": ""
            },
            "type": "mesh3d"
           }
          ],
          "parcoords": [
           {
            "line": {
             "colorbar": {
              "outlinewidth": 0,
              "ticks": ""
             }
            },
            "type": "parcoords"
           }
          ],
          "pie": [
           {
            "automargin": true,
            "type": "pie"
           }
          ],
          "scatter": [
           {
            "fillpattern": {
             "fillmode": "overlay",
             "size": 10,
             "solidity": 0.2
            },
            "type": "scatter"
           }
          ],
          "scatter3d": [
           {
            "line": {
             "colorbar": {
              "outlinewidth": 0,
              "ticks": ""
             }
            },
            "marker": {
             "colorbar": {
              "outlinewidth": 0,
              "ticks": ""
             }
            },
            "type": "scatter3d"
           }
          ],
          "scattercarpet": [
           {
            "marker": {
             "colorbar": {
              "outlinewidth": 0,
              "ticks": ""
             }
            },
            "type": "scattercarpet"
           }
          ],
          "scattergeo": [
           {
            "marker": {
             "colorbar": {
              "outlinewidth": 0,
              "ticks": ""
             }
            },
            "type": "scattergeo"
           }
          ],
          "scattergl": [
           {
            "marker": {
             "colorbar": {
              "outlinewidth": 0,
              "ticks": ""
             }
            },
            "type": "scattergl"
           }
          ],
          "scattermapbox": [
           {
            "marker": {
             "colorbar": {
              "outlinewidth": 0,
              "ticks": ""
             }
            },
            "type": "scattermapbox"
           }
          ],
          "scatterpolar": [
           {
            "marker": {
             "colorbar": {
              "outlinewidth": 0,
              "ticks": ""
             }
            },
            "type": "scatterpolar"
           }
          ],
          "scatterpolargl": [
           {
            "marker": {
             "colorbar": {
              "outlinewidth": 0,
              "ticks": ""
             }
            },
            "type": "scatterpolargl"
           }
          ],
          "scatterternary": [
           {
            "marker": {
             "colorbar": {
              "outlinewidth": 0,
              "ticks": ""
             }
            },
            "type": "scatterternary"
           }
          ],
          "surface": [
           {
            "colorbar": {
             "outlinewidth": 0,
             "ticks": ""
            },
            "colorscale": [
             [
              0,
              "#0d0887"
             ],
             [
              0.1111111111111111,
              "#46039f"
             ],
             [
              0.2222222222222222,
              "#7201a8"
             ],
             [
              0.3333333333333333,
              "#9c179e"
             ],
             [
              0.4444444444444444,
              "#bd3786"
             ],
             [
              0.5555555555555556,
              "#d8576b"
             ],
             [
              0.6666666666666666,
              "#ed7953"
             ],
             [
              0.7777777777777778,
              "#fb9f3a"
             ],
             [
              0.8888888888888888,
              "#fdca26"
             ],
             [
              1,
              "#f0f921"
             ]
            ],
            "type": "surface"
           }
          ],
          "table": [
           {
            "cells": {
             "fill": {
              "color": "#EBF0F8"
             },
             "line": {
              "color": "white"
             }
            },
            "header": {
             "fill": {
              "color": "#C8D4E3"
             },
             "line": {
              "color": "white"
             }
            },
            "type": "table"
           }
          ]
         },
         "layout": {
          "annotationdefaults": {
           "arrowcolor": "#2a3f5f",
           "arrowhead": 0,
           "arrowwidth": 1
          },
          "autotypenumbers": "strict",
          "coloraxis": {
           "colorbar": {
            "outlinewidth": 0,
            "ticks": ""
           }
          },
          "colorscale": {
           "diverging": [
            [
             0,
             "#8e0152"
            ],
            [
             0.1,
             "#c51b7d"
            ],
            [
             0.2,
             "#de77ae"
            ],
            [
             0.3,
             "#f1b6da"
            ],
            [
             0.4,
             "#fde0ef"
            ],
            [
             0.5,
             "#f7f7f7"
            ],
            [
             0.6,
             "#e6f5d0"
            ],
            [
             0.7,
             "#b8e186"
            ],
            [
             0.8,
             "#7fbc41"
            ],
            [
             0.9,
             "#4d9221"
            ],
            [
             1,
             "#276419"
            ]
           ],
           "sequential": [
            [
             0,
             "#0d0887"
            ],
            [
             0.1111111111111111,
             "#46039f"
            ],
            [
             0.2222222222222222,
             "#7201a8"
            ],
            [
             0.3333333333333333,
             "#9c179e"
            ],
            [
             0.4444444444444444,
             "#bd3786"
            ],
            [
             0.5555555555555556,
             "#d8576b"
            ],
            [
             0.6666666666666666,
             "#ed7953"
            ],
            [
             0.7777777777777778,
             "#fb9f3a"
            ],
            [
             0.8888888888888888,
             "#fdca26"
            ],
            [
             1,
             "#f0f921"
            ]
           ],
           "sequentialminus": [
            [
             0,
             "#0d0887"
            ],
            [
             0.1111111111111111,
             "#46039f"
            ],
            [
             0.2222222222222222,
             "#7201a8"
            ],
            [
             0.3333333333333333,
             "#9c179e"
            ],
            [
             0.4444444444444444,
             "#bd3786"
            ],
            [
             0.5555555555555556,
             "#d8576b"
            ],
            [
             0.6666666666666666,
             "#ed7953"
            ],
            [
             0.7777777777777778,
             "#fb9f3a"
            ],
            [
             0.8888888888888888,
             "#fdca26"
            ],
            [
             1,
             "#f0f921"
            ]
           ]
          },
          "colorway": [
           "#636efa",
           "#EF553B",
           "#00cc96",
           "#ab63fa",
           "#FFA15A",
           "#19d3f3",
           "#FF6692",
           "#B6E880",
           "#FF97FF",
           "#FECB52"
          ],
          "font": {
           "color": "#2a3f5f"
          },
          "geo": {
           "bgcolor": "white",
           "lakecolor": "white",
           "landcolor": "#E5ECF6",
           "showlakes": true,
           "showland": true,
           "subunitcolor": "white"
          },
          "hoverlabel": {
           "align": "left"
          },
          "hovermode": "closest",
          "mapbox": {
           "style": "light"
          },
          "paper_bgcolor": "white",
          "plot_bgcolor": "#E5ECF6",
          "polar": {
           "angularaxis": {
            "gridcolor": "white",
            "linecolor": "white",
            "ticks": ""
           },
           "bgcolor": "#E5ECF6",
           "radialaxis": {
            "gridcolor": "white",
            "linecolor": "white",
            "ticks": ""
           }
          },
          "scene": {
           "xaxis": {
            "backgroundcolor": "#E5ECF6",
            "gridcolor": "white",
            "gridwidth": 2,
            "linecolor": "white",
            "showbackground": true,
            "ticks": "",
            "zerolinecolor": "white"
           },
           "yaxis": {
            "backgroundcolor": "#E5ECF6",
            "gridcolor": "white",
            "gridwidth": 2,
            "linecolor": "white",
            "showbackground": true,
            "ticks": "",
            "zerolinecolor": "white"
           },
           "zaxis": {
            "backgroundcolor": "#E5ECF6",
            "gridcolor": "white",
            "gridwidth": 2,
            "linecolor": "white",
            "showbackground": true,
            "ticks": "",
            "zerolinecolor": "white"
           }
          },
          "shapedefaults": {
           "line": {
            "color": "#2a3f5f"
           }
          },
          "ternary": {
           "aaxis": {
            "gridcolor": "white",
            "linecolor": "white",
            "ticks": ""
           },
           "baxis": {
            "gridcolor": "white",
            "linecolor": "white",
            "ticks": ""
           },
           "bgcolor": "#E5ECF6",
           "caxis": {
            "gridcolor": "white",
            "linecolor": "white",
            "ticks": ""
           }
          },
          "title": {
           "x": 0.05
          },
          "xaxis": {
           "automargin": true,
           "gridcolor": "white",
           "linecolor": "white",
           "ticks": "",
           "title": {
            "standoff": 15
           },
           "zerolinecolor": "white",
           "zerolinewidth": 2
          },
          "yaxis": {
           "automargin": true,
           "gridcolor": "white",
           "linecolor": "white",
           "ticks": "",
           "title": {
            "standoff": 15
           },
           "zerolinecolor": "white",
           "zerolinewidth": 2
          }
         }
        },
        "title": {
         "text": "Muertes"
        },
        "width": 800,
        "xaxis": {
         "anchor": "y",
         "domain": [
          0,
          1
         ],
         "title": {
          "text": "x"
         }
        },
        "yaxis": {
         "anchor": "x",
         "domain": [
          0,
          1
         ],
         "title": {
          "text": "y"
         }
        }
       }
      }
     },
     "metadata": {},
     "output_type": "display_data"
    },
    {
     "data": {
      "application/vnd.plotly.v1+json": {
       "config": {
        "plotlyServerURL": "https://plot.ly"
       },
       "data": [
        {
         "hovertemplate": "x=%{x}<br>y=%{y}<extra></extra>",
         "legendgroup": "",
         "line": {
          "color": "#636efa",
          "dash": "solid"
         },
         "marker": {
          "symbol": "circle"
         },
         "mode": "lines",
         "name": "",
         "orientation": "v",
         "showlegend": false,
         "type": "scatter",
         "x": [
          "2020-01-01T00:00:00.000",
          "2020-01-02T00:00:00.000",
          "2020-01-03T00:00:00.000",
          "2020-01-04T00:00:00.000",
          "2020-01-05T00:00:00.000",
          "2020-01-06T00:00:00.000",
          "2020-01-07T00:00:00.000",
          "2020-01-08T00:00:00.000",
          "2020-01-09T00:00:00.000",
          "2020-01-10T00:00:00.000",
          "2020-01-11T00:00:00.000",
          "2020-01-12T00:00:00.000",
          "2020-01-13T00:00:00.000",
          "2020-01-14T00:00:00.000",
          "2020-01-15T00:00:00.000",
          "2020-01-16T00:00:00.000",
          "2020-01-17T00:00:00.000",
          "2020-01-18T00:00:00.000",
          "2020-01-19T00:00:00.000",
          "2020-01-20T00:00:00.000",
          "2020-01-21T00:00:00.000",
          "2020-01-22T00:00:00.000",
          "2020-01-23T00:00:00.000",
          "2020-01-24T00:00:00.000",
          "2020-01-25T00:00:00.000",
          "2020-01-26T00:00:00.000",
          "2020-01-27T00:00:00.000",
          "2020-01-28T00:00:00.000",
          "2020-01-29T00:00:00.000",
          "2020-01-30T00:00:00.000",
          "2020-01-31T00:00:00.000",
          "2020-02-01T00:00:00.000",
          "2020-02-02T00:00:00.000",
          "2020-02-03T00:00:00.000",
          "2020-02-04T00:00:00.000",
          "2020-02-05T00:00:00.000",
          "2020-02-06T00:00:00.000",
          "2020-02-07T00:00:00.000",
          "2020-02-08T00:00:00.000",
          "2020-02-09T00:00:00.000",
          "2020-02-10T00:00:00.000",
          "2020-02-11T00:00:00.000",
          "2020-02-12T00:00:00.000",
          "2020-02-13T00:00:00.000",
          "2020-02-14T00:00:00.000",
          "2020-02-15T00:00:00.000",
          "2020-02-16T00:00:00.000",
          "2020-02-17T00:00:00.000",
          "2020-02-18T00:00:00.000",
          "2020-02-19T00:00:00.000",
          "2020-02-20T00:00:00.000",
          "2020-02-21T00:00:00.000",
          "2020-02-22T00:00:00.000",
          "2020-02-23T00:00:00.000",
          "2020-02-24T00:00:00.000",
          "2020-02-25T00:00:00.000",
          "2020-02-26T00:00:00.000",
          "2020-02-27T00:00:00.000",
          "2020-02-28T00:00:00.000",
          "2020-02-29T00:00:00.000",
          "2020-03-01T00:00:00.000",
          "2020-03-02T00:00:00.000",
          "2020-03-03T00:00:00.000",
          "2020-03-04T00:00:00.000",
          "2020-03-05T00:00:00.000",
          "2020-03-06T00:00:00.000",
          "2020-03-07T00:00:00.000",
          "2020-03-08T00:00:00.000",
          "2020-03-09T00:00:00.000",
          "2020-03-10T00:00:00.000",
          "2020-03-11T00:00:00.000",
          "2020-03-12T00:00:00.000",
          "2020-03-13T00:00:00.000",
          "2020-03-14T00:00:00.000",
          "2020-03-15T00:00:00.000",
          "2020-03-16T00:00:00.000",
          "2020-03-17T00:00:00.000",
          "2020-03-18T00:00:00.000",
          "2020-03-19T00:00:00.000",
          "2020-03-20T00:00:00.000",
          "2020-03-21T00:00:00.000",
          "2020-03-22T00:00:00.000",
          "2020-03-23T00:00:00.000",
          "2020-03-24T00:00:00.000",
          "2020-03-25T00:00:00.000",
          "2020-03-26T00:00:00.000",
          "2020-03-27T00:00:00.000",
          "2020-03-28T00:00:00.000",
          "2020-03-29T00:00:00.000",
          "2020-03-30T00:00:00.000",
          "2020-03-31T00:00:00.000",
          "2020-04-01T00:00:00.000",
          "2020-04-02T00:00:00.000",
          "2020-04-03T00:00:00.000",
          "2020-04-04T00:00:00.000",
          "2020-04-05T00:00:00.000",
          "2020-04-06T00:00:00.000",
          "2020-04-07T00:00:00.000",
          "2020-04-08T00:00:00.000",
          "2020-04-09T00:00:00.000",
          "2020-04-10T00:00:00.000",
          "2020-04-11T00:00:00.000",
          "2020-04-12T00:00:00.000",
          "2020-04-13T00:00:00.000",
          "2020-04-14T00:00:00.000",
          "2020-04-15T00:00:00.000",
          "2020-04-16T00:00:00.000",
          "2020-04-17T00:00:00.000",
          "2020-04-18T00:00:00.000",
          "2020-04-19T00:00:00.000",
          "2020-04-20T00:00:00.000",
          "2020-04-21T00:00:00.000",
          "2020-04-22T00:00:00.000",
          "2020-04-23T00:00:00.000",
          "2020-04-24T00:00:00.000",
          "2020-04-25T00:00:00.000",
          "2020-04-26T00:00:00.000",
          "2020-04-27T00:00:00.000",
          "2020-04-28T00:00:00.000",
          "2020-04-29T00:00:00.000",
          "2020-04-30T00:00:00.000",
          "2020-05-01T00:00:00.000",
          "2020-05-02T00:00:00.000",
          "2020-05-03T00:00:00.000",
          "2020-05-04T00:00:00.000",
          "2020-05-05T00:00:00.000",
          "2020-05-06T00:00:00.000",
          "2020-05-07T00:00:00.000",
          "2020-05-08T00:00:00.000",
          "2020-05-09T00:00:00.000",
          "2020-05-10T00:00:00.000",
          "2020-05-11T00:00:00.000",
          "2020-05-12T00:00:00.000",
          "2020-05-13T00:00:00.000",
          "2020-05-14T00:00:00.000",
          "2020-05-15T00:00:00.000",
          "2020-05-16T00:00:00.000",
          "2020-05-17T00:00:00.000",
          "2020-05-18T00:00:00.000",
          "2020-05-19T00:00:00.000",
          "2020-05-20T00:00:00.000",
          "2020-05-21T00:00:00.000",
          "2020-05-22T00:00:00.000",
          "2020-05-23T00:00:00.000",
          "2020-05-24T00:00:00.000",
          "2020-05-25T00:00:00.000",
          "2020-05-26T00:00:00.000",
          "2020-05-27T00:00:00.000",
          "2020-05-28T00:00:00.000",
          "2020-05-29T00:00:00.000",
          "2020-05-30T00:00:00.000",
          "2020-05-31T00:00:00.000",
          "2020-06-01T00:00:00.000",
          "2020-06-02T00:00:00.000",
          "2020-06-03T00:00:00.000",
          "2020-06-04T00:00:00.000",
          "2020-06-05T00:00:00.000",
          "2020-06-06T00:00:00.000",
          "2020-06-07T00:00:00.000",
          "2020-06-08T00:00:00.000",
          "2020-06-09T00:00:00.000",
          "2020-06-10T00:00:00.000",
          "2020-06-11T00:00:00.000",
          "2020-06-12T00:00:00.000",
          "2020-06-13T00:00:00.000",
          "2020-06-14T00:00:00.000",
          "2020-06-15T00:00:00.000",
          "2020-06-16T00:00:00.000",
          "2020-06-17T00:00:00.000",
          "2020-06-18T00:00:00.000",
          "2020-06-19T00:00:00.000",
          "2020-06-20T00:00:00.000",
          "2020-06-21T00:00:00.000",
          "2020-06-22T00:00:00.000",
          "2020-06-23T00:00:00.000",
          "2020-06-24T00:00:00.000",
          "2020-06-25T00:00:00.000",
          "2020-06-26T00:00:00.000",
          "2020-06-27T00:00:00.000",
          "2020-06-28T00:00:00.000",
          "2020-06-29T00:00:00.000",
          "2020-06-30T00:00:00.000",
          "2020-07-01T00:00:00.000",
          "2020-07-02T00:00:00.000",
          "2020-07-03T00:00:00.000",
          "2020-07-04T00:00:00.000",
          "2020-07-05T00:00:00.000",
          "2020-07-06T00:00:00.000",
          "2020-07-07T00:00:00.000",
          "2020-07-08T00:00:00.000",
          "2020-07-09T00:00:00.000",
          "2020-07-10T00:00:00.000",
          "2020-07-11T00:00:00.000",
          "2020-07-12T00:00:00.000",
          "2020-07-13T00:00:00.000",
          "2020-07-14T00:00:00.000",
          "2020-07-15T00:00:00.000",
          "2020-07-16T00:00:00.000",
          "2020-07-17T00:00:00.000",
          "2020-07-18T00:00:00.000",
          "2020-07-19T00:00:00.000",
          "2020-07-20T00:00:00.000",
          "2020-07-21T00:00:00.000",
          "2020-07-22T00:00:00.000",
          "2020-07-23T00:00:00.000",
          "2020-07-24T00:00:00.000",
          "2020-07-25T00:00:00.000",
          "2020-07-26T00:00:00.000",
          "2020-07-27T00:00:00.000",
          "2020-07-28T00:00:00.000",
          "2020-07-29T00:00:00.000",
          "2020-07-30T00:00:00.000",
          "2020-07-31T00:00:00.000",
          "2020-08-01T00:00:00.000",
          "2020-08-02T00:00:00.000",
          "2020-08-03T00:00:00.000",
          "2020-08-04T00:00:00.000",
          "2020-08-05T00:00:00.000",
          "2020-08-06T00:00:00.000",
          "2020-08-07T00:00:00.000",
          "2020-08-08T00:00:00.000",
          "2020-08-09T00:00:00.000",
          "2020-08-10T00:00:00.000",
          "2020-08-11T00:00:00.000",
          "2020-08-12T00:00:00.000",
          "2020-08-13T00:00:00.000",
          "2020-08-14T00:00:00.000",
          "2020-08-15T00:00:00.000",
          "2020-08-16T00:00:00.000",
          "2020-08-17T00:00:00.000",
          "2020-08-18T00:00:00.000",
          "2020-08-19T00:00:00.000",
          "2020-08-20T00:00:00.000",
          "2020-08-21T00:00:00.000",
          "2020-08-22T00:00:00.000",
          "2020-08-23T00:00:00.000",
          "2020-08-24T00:00:00.000",
          "2020-08-25T00:00:00.000",
          "2020-08-26T00:00:00.000",
          "2020-08-27T00:00:00.000",
          "2020-08-28T00:00:00.000",
          "2020-08-29T00:00:00.000",
          "2020-08-30T00:00:00.000",
          "2020-08-31T00:00:00.000",
          "2020-09-01T00:00:00.000",
          "2020-09-02T00:00:00.000",
          "2020-09-03T00:00:00.000",
          "2020-09-04T00:00:00.000",
          "2020-09-05T00:00:00.000",
          "2020-09-06T00:00:00.000",
          "2020-09-07T00:00:00.000",
          "2020-09-08T00:00:00.000",
          "2020-09-09T00:00:00.000",
          "2020-09-10T00:00:00.000",
          "2020-09-11T00:00:00.000",
          "2020-09-12T00:00:00.000",
          "2020-09-13T00:00:00.000",
          "2020-09-14T00:00:00.000",
          "2020-09-15T00:00:00.000",
          "2020-09-16T00:00:00.000",
          "2020-09-17T00:00:00.000",
          "2020-09-18T00:00:00.000",
          "2020-09-19T00:00:00.000",
          "2020-09-20T00:00:00.000",
          "2020-09-21T00:00:00.000",
          "2020-09-22T00:00:00.000",
          "2020-09-23T00:00:00.000",
          "2020-09-24T00:00:00.000",
          "2020-09-25T00:00:00.000",
          "2020-09-26T00:00:00.000",
          "2020-09-27T00:00:00.000",
          "2020-09-28T00:00:00.000",
          "2020-09-29T00:00:00.000",
          "2020-09-30T00:00:00.000",
          "2020-10-01T00:00:00.000",
          "2020-10-02T00:00:00.000",
          "2020-10-03T00:00:00.000",
          "2020-10-04T00:00:00.000",
          "2020-10-05T00:00:00.000",
          "2020-10-06T00:00:00.000",
          "2020-10-07T00:00:00.000",
          "2020-10-08T00:00:00.000",
          "2020-10-09T00:00:00.000",
          "2020-10-10T00:00:00.000",
          "2020-10-11T00:00:00.000",
          "2020-10-12T00:00:00.000",
          "2020-10-13T00:00:00.000",
          "2020-10-14T00:00:00.000",
          "2020-10-15T00:00:00.000",
          "2020-10-16T00:00:00.000",
          "2020-10-17T00:00:00.000",
          "2020-10-18T00:00:00.000",
          "2020-10-19T00:00:00.000",
          "2020-10-20T00:00:00.000",
          "2020-10-21T00:00:00.000",
          "2020-10-22T00:00:00.000",
          "2020-10-23T00:00:00.000",
          "2020-10-24T00:00:00.000",
          "2020-10-25T00:00:00.000",
          "2020-10-26T00:00:00.000",
          "2020-10-27T00:00:00.000",
          "2020-10-28T00:00:00.000",
          "2020-10-29T00:00:00.000",
          "2020-10-30T00:00:00.000",
          "2020-10-31T00:00:00.000",
          "2020-11-01T00:00:00.000",
          "2020-11-02T00:00:00.000",
          "2020-11-03T00:00:00.000",
          "2020-11-04T00:00:00.000",
          "2020-11-05T00:00:00.000",
          "2020-11-06T00:00:00.000",
          "2020-11-07T00:00:00.000",
          "2020-11-08T00:00:00.000",
          "2020-11-09T00:00:00.000",
          "2020-11-10T00:00:00.000",
          "2020-11-11T00:00:00.000",
          "2020-11-12T00:00:00.000",
          "2020-11-13T00:00:00.000",
          "2020-11-14T00:00:00.000",
          "2020-11-15T00:00:00.000",
          "2020-11-16T00:00:00.000",
          "2020-11-17T00:00:00.000",
          "2020-11-18T00:00:00.000",
          "2020-11-19T00:00:00.000",
          "2020-11-20T00:00:00.000",
          "2020-11-21T00:00:00.000",
          "2020-11-22T00:00:00.000",
          "2020-11-23T00:00:00.000",
          "2020-11-24T00:00:00.000",
          "2020-11-25T00:00:00.000",
          "2020-11-26T00:00:00.000",
          "2020-11-27T00:00:00.000",
          "2020-11-28T00:00:00.000",
          "2020-11-29T00:00:00.000",
          "2020-11-30T00:00:00.000",
          "2020-12-01T00:00:00.000",
          "2020-12-02T00:00:00.000",
          "2020-12-03T00:00:00.000",
          "2020-12-04T00:00:00.000",
          "2020-12-05T00:00:00.000",
          "2020-12-06T00:00:00.000",
          "2020-12-07T00:00:00.000",
          "2020-12-08T00:00:00.000",
          "2020-12-09T00:00:00.000",
          "2020-12-10T00:00:00.000",
          "2020-12-11T00:00:00.000",
          "2020-12-12T00:00:00.000",
          "2020-12-13T00:00:00.000",
          "2020-12-14T00:00:00.000",
          "2020-12-15T00:00:00.000",
          "2020-12-16T00:00:00.000",
          "2020-12-17T00:00:00.000",
          "2020-12-18T00:00:00.000",
          "2020-12-19T00:00:00.000",
          "2020-12-20T00:00:00.000",
          "2020-12-21T00:00:00.000",
          "2020-12-22T00:00:00.000",
          "2020-12-23T00:00:00.000",
          "2020-12-24T00:00:00.000",
          "2020-12-25T00:00:00.000",
          "2020-12-26T00:00:00.000",
          "2020-12-27T00:00:00.000",
          "2020-12-28T00:00:00.000",
          "2020-12-29T00:00:00.000",
          "2020-12-30T00:00:00.000",
          "2020-12-31T00:00:00.000"
         ],
         "xaxis": "x",
         "y": [
          0,
          16,
          16,
          16,
          16,
          16,
          0,
          0,
          0,
          0,
          0,
          0,
          0,
          0,
          0,
          0,
          0,
          0,
          0,
          0,
          0,
          0,
          0,
          0,
          0,
          0,
          0,
          0,
          0,
          0,
          0,
          0,
          0,
          0,
          0,
          0,
          0,
          0,
          0,
          0,
          0,
          0,
          0,
          0,
          0,
          0,
          0,
          0,
          0,
          0,
          0,
          0,
          0,
          0,
          0,
          0,
          0,
          0,
          0,
          0,
          0,
          0,
          0,
          0,
          0,
          0,
          0,
          0,
          0,
          0,
          0,
          0,
          0,
          0,
          0,
          0,
          0,
          0,
          0,
          0,
          0,
          0,
          0,
          0,
          0,
          0,
          0,
          0,
          0,
          0,
          0,
          0,
          0,
          0,
          0,
          0,
          0,
          0,
          0,
          0,
          6,
          6,
          6,
          6,
          6,
          0,
          0,
          0,
          0,
          0,
          0,
          0,
          0,
          0,
          0,
          0,
          0,
          0,
          0,
          0,
          0,
          0,
          0,
          0,
          0,
          0,
          0,
          0,
          0,
          0,
          0,
          0,
          0,
          0,
          0,
          0,
          0,
          0,
          0,
          0,
          0,
          0,
          0,
          0,
          0,
          0,
          1,
          1,
          1,
          1,
          1,
          1,
          1,
          1,
          1,
          1,
          1,
          1,
          1,
          1,
          1,
          1,
          1,
          2,
          2,
          2,
          1,
          2,
          2,
          2,
          2,
          2,
          2,
          2,
          2,
          2,
          2,
          2,
          2,
          2,
          2,
          2,
          2,
          2,
          2,
          2,
          2,
          2,
          2,
          2,
          2,
          9,
          4,
          4,
          4,
          5,
          242,
          334,
          417,
          418,
          418,
          440,
          476,
          628,
          675,
          707,
          709,
          688,
          749,
          753,
          761,
          781,
          788,
          765,
          742,
          779,
          777,
          801,
          775,
          788,
          773,
          746,
          791,
          794,
          771,
          780,
          798,
          779,
          766,
          781,
          774,
          771,
          792,
          800,
          769,
          763,
          781,
          760,
          790,
          785,
          815,
          810,
          780,
          814,
          807,
          826,
          831,
          841,
          812,
          904,
          876,
          898,
          910,
          908,
          931,
          887,
          884,
          910,
          918,
          902,
          914,
          856,
          828,
          808,
          843,
          850,
          853,
          835,
          859,
          829,
          837,
          874,
          852,
          868,
          862,
          893,
          858,
          849,
          900,
          894,
          906,
          921,
          934,
          921,
          914,
          924,
          933,
          951,
          965,
          980,
          950,
          956,
          955,
          941,
          958,
          976,
          977,
          947,
          933,
          953,
          939,
          968,
          976,
          994,
          1016,
          980,
          982,
          988,
          1000,
          1011,
          1026,
          993,
          993,
          1001,
          1048,
          1087,
          1117,
          1115,
          1093,
          1088,
          1084,
          1095,
          1137,
          1132,
          1147,
          1134,
          1121,
          1126,
          1123,
          1175,
          1136,
          1149,
          1159,
          1155,
          1133,
          1111,
          1180,
          1182,
          1184,
          1176,
          1181,
          1168,
          1181,
          1265,
          1229,
          1249,
          1234,
          1232,
          1242,
          1221,
          1266,
          1242,
          1251,
          1240,
          1237,
          1216,
          1212,
          1267,
          1270,
          1247,
          1262,
          1269,
          1211,
          1079,
          1063,
          1089
         ],
         "yaxis": "y"
        }
       ],
       "layout": {
        "height": 600,
        "legend": {
         "tracegroupgap": 0
        },
        "template": {
         "data": {
          "bar": [
           {
            "error_x": {
             "color": "#2a3f5f"
            },
            "error_y": {
             "color": "#2a3f5f"
            },
            "marker": {
             "line": {
              "color": "#E5ECF6",
              "width": 0.5
             },
             "pattern": {
              "fillmode": "overlay",
              "size": 10,
              "solidity": 0.2
             }
            },
            "type": "bar"
           }
          ],
          "barpolar": [
           {
            "marker": {
             "line": {
              "color": "#E5ECF6",
              "width": 0.5
             },
             "pattern": {
              "fillmode": "overlay",
              "size": 10,
              "solidity": 0.2
             }
            },
            "type": "barpolar"
           }
          ],
          "carpet": [
           {
            "aaxis": {
             "endlinecolor": "#2a3f5f",
             "gridcolor": "white",
             "linecolor": "white",
             "minorgridcolor": "white",
             "startlinecolor": "#2a3f5f"
            },
            "baxis": {
             "endlinecolor": "#2a3f5f",
             "gridcolor": "white",
             "linecolor": "white",
             "minorgridcolor": "white",
             "startlinecolor": "#2a3f5f"
            },
            "type": "carpet"
           }
          ],
          "choropleth": [
           {
            "colorbar": {
             "outlinewidth": 0,
             "ticks": ""
            },
            "type": "choropleth"
           }
          ],
          "contour": [
           {
            "colorbar": {
             "outlinewidth": 0,
             "ticks": ""
            },
            "colorscale": [
             [
              0,
              "#0d0887"
             ],
             [
              0.1111111111111111,
              "#46039f"
             ],
             [
              0.2222222222222222,
              "#7201a8"
             ],
             [
              0.3333333333333333,
              "#9c179e"
             ],
             [
              0.4444444444444444,
              "#bd3786"
             ],
             [
              0.5555555555555556,
              "#d8576b"
             ],
             [
              0.6666666666666666,
              "#ed7953"
             ],
             [
              0.7777777777777778,
              "#fb9f3a"
             ],
             [
              0.8888888888888888,
              "#fdca26"
             ],
             [
              1,
              "#f0f921"
             ]
            ],
            "type": "contour"
           }
          ],
          "contourcarpet": [
           {
            "colorbar": {
             "outlinewidth": 0,
             "ticks": ""
            },
            "type": "contourcarpet"
           }
          ],
          "heatmap": [
           {
            "colorbar": {
             "outlinewidth": 0,
             "ticks": ""
            },
            "colorscale": [
             [
              0,
              "#0d0887"
             ],
             [
              0.1111111111111111,
              "#46039f"
             ],
             [
              0.2222222222222222,
              "#7201a8"
             ],
             [
              0.3333333333333333,
              "#9c179e"
             ],
             [
              0.4444444444444444,
              "#bd3786"
             ],
             [
              0.5555555555555556,
              "#d8576b"
             ],
             [
              0.6666666666666666,
              "#ed7953"
             ],
             [
              0.7777777777777778,
              "#fb9f3a"
             ],
             [
              0.8888888888888888,
              "#fdca26"
             ],
             [
              1,
              "#f0f921"
             ]
            ],
            "type": "heatmap"
           }
          ],
          "heatmapgl": [
           {
            "colorbar": {
             "outlinewidth": 0,
             "ticks": ""
            },
            "colorscale": [
             [
              0,
              "#0d0887"
             ],
             [
              0.1111111111111111,
              "#46039f"
             ],
             [
              0.2222222222222222,
              "#7201a8"
             ],
             [
              0.3333333333333333,
              "#9c179e"
             ],
             [
              0.4444444444444444,
              "#bd3786"
             ],
             [
              0.5555555555555556,
              "#d8576b"
             ],
             [
              0.6666666666666666,
              "#ed7953"
             ],
             [
              0.7777777777777778,
              "#fb9f3a"
             ],
             [
              0.8888888888888888,
              "#fdca26"
             ],
             [
              1,
              "#f0f921"
             ]
            ],
            "type": "heatmapgl"
           }
          ],
          "histogram": [
           {
            "marker": {
             "pattern": {
              "fillmode": "overlay",
              "size": 10,
              "solidity": 0.2
             }
            },
            "type": "histogram"
           }
          ],
          "histogram2d": [
           {
            "colorbar": {
             "outlinewidth": 0,
             "ticks": ""
            },
            "colorscale": [
             [
              0,
              "#0d0887"
             ],
             [
              0.1111111111111111,
              "#46039f"
             ],
             [
              0.2222222222222222,
              "#7201a8"
             ],
             [
              0.3333333333333333,
              "#9c179e"
             ],
             [
              0.4444444444444444,
              "#bd3786"
             ],
             [
              0.5555555555555556,
              "#d8576b"
             ],
             [
              0.6666666666666666,
              "#ed7953"
             ],
             [
              0.7777777777777778,
              "#fb9f3a"
             ],
             [
              0.8888888888888888,
              "#fdca26"
             ],
             [
              1,
              "#f0f921"
             ]
            ],
            "type": "histogram2d"
           }
          ],
          "histogram2dcontour": [
           {
            "colorbar": {
             "outlinewidth": 0,
             "ticks": ""
            },
            "colorscale": [
             [
              0,
              "#0d0887"
             ],
             [
              0.1111111111111111,
              "#46039f"
             ],
             [
              0.2222222222222222,
              "#7201a8"
             ],
             [
              0.3333333333333333,
              "#9c179e"
             ],
             [
              0.4444444444444444,
              "#bd3786"
             ],
             [
              0.5555555555555556,
              "#d8576b"
             ],
             [
              0.6666666666666666,
              "#ed7953"
             ],
             [
              0.7777777777777778,
              "#fb9f3a"
             ],
             [
              0.8888888888888888,
              "#fdca26"
             ],
             [
              1,
              "#f0f921"
             ]
            ],
            "type": "histogram2dcontour"
           }
          ],
          "mesh3d": [
           {
            "colorbar": {
             "outlinewidth": 0,
             "ticks": ""
            },
            "type": "mesh3d"
           }
          ],
          "parcoords": [
           {
            "line": {
             "colorbar": {
              "outlinewidth": 0,
              "ticks": ""
             }
            },
            "type": "parcoords"
           }
          ],
          "pie": [
           {
            "automargin": true,
            "type": "pie"
           }
          ],
          "scatter": [
           {
            "fillpattern": {
             "fillmode": "overlay",
             "size": 10,
             "solidity": 0.2
            },
            "type": "scatter"
           }
          ],
          "scatter3d": [
           {
            "line": {
             "colorbar": {
              "outlinewidth": 0,
              "ticks": ""
             }
            },
            "marker": {
             "colorbar": {
              "outlinewidth": 0,
              "ticks": ""
             }
            },
            "type": "scatter3d"
           }
          ],
          "scattercarpet": [
           {
            "marker": {
             "colorbar": {
              "outlinewidth": 0,
              "ticks": ""
             }
            },
            "type": "scattercarpet"
           }
          ],
          "scattergeo": [
           {
            "marker": {
             "colorbar": {
              "outlinewidth": 0,
              "ticks": ""
             }
            },
            "type": "scattergeo"
           }
          ],
          "scattergl": [
           {
            "marker": {
             "colorbar": {
              "outlinewidth": 0,
              "ticks": ""
             }
            },
            "type": "scattergl"
           }
          ],
          "scattermapbox": [
           {
            "marker": {
             "colorbar": {
              "outlinewidth": 0,
              "ticks": ""
             }
            },
            "type": "scattermapbox"
           }
          ],
          "scatterpolar": [
           {
            "marker": {
             "colorbar": {
              "outlinewidth": 0,
              "ticks": ""
             }
            },
            "type": "scatterpolar"
           }
          ],
          "scatterpolargl": [
           {
            "marker": {
             "colorbar": {
              "outlinewidth": 0,
              "ticks": ""
             }
            },
            "type": "scatterpolargl"
           }
          ],
          "scatterternary": [
           {
            "marker": {
             "colorbar": {
              "outlinewidth": 0,
              "ticks": ""
             }
            },
            "type": "scatterternary"
           }
          ],
          "surface": [
           {
            "colorbar": {
             "outlinewidth": 0,
             "ticks": ""
            },
            "colorscale": [
             [
              0,
              "#0d0887"
             ],
             [
              0.1111111111111111,
              "#46039f"
             ],
             [
              0.2222222222222222,
              "#7201a8"
             ],
             [
              0.3333333333333333,
              "#9c179e"
             ],
             [
              0.4444444444444444,
              "#bd3786"
             ],
             [
              0.5555555555555556,
              "#d8576b"
             ],
             [
              0.6666666666666666,
              "#ed7953"
             ],
             [
              0.7777777777777778,
              "#fb9f3a"
             ],
             [
              0.8888888888888888,
              "#fdca26"
             ],
             [
              1,
              "#f0f921"
             ]
            ],
            "type": "surface"
           }
          ],
          "table": [
           {
            "cells": {
             "fill": {
              "color": "#EBF0F8"
             },
             "line": {
              "color": "white"
             }
            },
            "header": {
             "fill": {
              "color": "#C8D4E3"
             },
             "line": {
              "color": "white"
             }
            },
            "type": "table"
           }
          ]
         },
         "layout": {
          "annotationdefaults": {
           "arrowcolor": "#2a3f5f",
           "arrowhead": 0,
           "arrowwidth": 1
          },
          "autotypenumbers": "strict",
          "coloraxis": {
           "colorbar": {
            "outlinewidth": 0,
            "ticks": ""
           }
          },
          "colorscale": {
           "diverging": [
            [
             0,
             "#8e0152"
            ],
            [
             0.1,
             "#c51b7d"
            ],
            [
             0.2,
             "#de77ae"
            ],
            [
             0.3,
             "#f1b6da"
            ],
            [
             0.4,
             "#fde0ef"
            ],
            [
             0.5,
             "#f7f7f7"
            ],
            [
             0.6,
             "#e6f5d0"
            ],
            [
             0.7,
             "#b8e186"
            ],
            [
             0.8,
             "#7fbc41"
            ],
            [
             0.9,
             "#4d9221"
            ],
            [
             1,
             "#276419"
            ]
           ],
           "sequential": [
            [
             0,
             "#0d0887"
            ],
            [
             0.1111111111111111,
             "#46039f"
            ],
            [
             0.2222222222222222,
             "#7201a8"
            ],
            [
             0.3333333333333333,
             "#9c179e"
            ],
            [
             0.4444444444444444,
             "#bd3786"
            ],
            [
             0.5555555555555556,
             "#d8576b"
            ],
            [
             0.6666666666666666,
             "#ed7953"
            ],
            [
             0.7777777777777778,
             "#fb9f3a"
            ],
            [
             0.8888888888888888,
             "#fdca26"
            ],
            [
             1,
             "#f0f921"
            ]
           ],
           "sequentialminus": [
            [
             0,
             "#0d0887"
            ],
            [
             0.1111111111111111,
             "#46039f"
            ],
            [
             0.2222222222222222,
             "#7201a8"
            ],
            [
             0.3333333333333333,
             "#9c179e"
            ],
            [
             0.4444444444444444,
             "#bd3786"
            ],
            [
             0.5555555555555556,
             "#d8576b"
            ],
            [
             0.6666666666666666,
             "#ed7953"
            ],
            [
             0.7777777777777778,
             "#fb9f3a"
            ],
            [
             0.8888888888888888,
             "#fdca26"
            ],
            [
             1,
             "#f0f921"
            ]
           ]
          },
          "colorway": [
           "#636efa",
           "#EF553B",
           "#00cc96",
           "#ab63fa",
           "#FFA15A",
           "#19d3f3",
           "#FF6692",
           "#B6E880",
           "#FF97FF",
           "#FECB52"
          ],
          "font": {
           "color": "#2a3f5f"
          },
          "geo": {
           "bgcolor": "white",
           "lakecolor": "white",
           "landcolor": "#E5ECF6",
           "showlakes": true,
           "showland": true,
           "subunitcolor": "white"
          },
          "hoverlabel": {
           "align": "left"
          },
          "hovermode": "closest",
          "mapbox": {
           "style": "light"
          },
          "paper_bgcolor": "white",
          "plot_bgcolor": "#E5ECF6",
          "polar": {
           "angularaxis": {
            "gridcolor": "white",
            "linecolor": "white",
            "ticks": ""
           },
           "bgcolor": "#E5ECF6",
           "radialaxis": {
            "gridcolor": "white",
            "linecolor": "white",
            "ticks": ""
           }
          },
          "scene": {
           "xaxis": {
            "backgroundcolor": "#E5ECF6",
            "gridcolor": "white",
            "gridwidth": 2,
            "linecolor": "white",
            "showbackground": true,
            "ticks": "",
            "zerolinecolor": "white"
           },
           "yaxis": {
            "backgroundcolor": "#E5ECF6",
            "gridcolor": "white",
            "gridwidth": 2,
            "linecolor": "white",
            "showbackground": true,
            "ticks": "",
            "zerolinecolor": "white"
           },
           "zaxis": {
            "backgroundcolor": "#E5ECF6",
            "gridcolor": "white",
            "gridwidth": 2,
            "linecolor": "white",
            "showbackground": true,
            "ticks": "",
            "zerolinecolor": "white"
           }
          },
          "shapedefaults": {
           "line": {
            "color": "#2a3f5f"
           }
          },
          "ternary": {
           "aaxis": {
            "gridcolor": "white",
            "linecolor": "white",
            "ticks": ""
           },
           "baxis": {
            "gridcolor": "white",
            "linecolor": "white",
            "ticks": ""
           },
           "bgcolor": "#E5ECF6",
           "caxis": {
            "gridcolor": "white",
            "linecolor": "white",
            "ticks": ""
           }
          },
          "title": {
           "x": 0.05
          },
          "xaxis": {
           "automargin": true,
           "gridcolor": "white",
           "linecolor": "white",
           "ticks": "",
           "title": {
            "standoff": 15
           },
           "zerolinecolor": "white",
           "zerolinewidth": 2
          },
          "yaxis": {
           "automargin": true,
           "gridcolor": "white",
           "linecolor": "white",
           "ticks": "",
           "title": {
            "standoff": 15
           },
           "zerolinecolor": "white",
           "zerolinewidth": 2
          }
         }
        },
        "title": {
         "text": "Falta de personal"
        },
        "width": 800,
        "xaxis": {
         "anchor": "y",
         "domain": [
          0,
          1
         ],
         "title": {
          "text": "x"
         }
        },
        "yaxis": {
         "anchor": "x",
         "domain": [
          0,
          1
         ],
         "title": {
          "text": "y"
         }
        }
       }
      }
     },
     "metadata": {},
     "output_type": "display_data"
    },
    {
     "name": "stdout",
     "output_type": "stream",
     "text": [
      "Correlación Pearson:  0.1688784106974282\n"
     ]
    }
   ],
   "source": [
    "df_2021['critical_staffing_shortage_today_yes'].fillna(0, inplace= True)\n",
    "df_2021['critical_staffing_shortage_today_yes'].astype(int)\n",
    "muertes =df_2021.groupby(['date'])[['Muertes_por_covid']].sum()\n",
    "personal =df_2021.groupby(['date'])[['critical_staffing_shortage_today_yes']].sum()\n",
    "labels=  muertes.index\n",
    "values= muertes['Muertes_por_covid']\n",
    "fig = px.line(x= labels, y = values, width=800, height=600, title='Muertes')\n",
    "fig.show()\n",
    "labels1=personal.index\n",
    "values1= personal['critical_staffing_shortage_today_yes']\n",
    "fig1 = px.line(x= labels1, y = values1, width=800, height=600, title='Falta de personal')\n",
    "fig1.show()\n",
    "print('Correlación Pearson: ', df_2021['critical_staffing_shortage_today_yes'].corr(df_2021['Muertes_por_covid'], method='pearson'))\n"
   ]
  },
  {
   "cell_type": "markdown",
   "metadata": {},
   "source": [
    "Podemos notar que para la primera ola fue suficiente el personal medico, pero para la segunda ola que fue mas grande se nota una relación de crecimiento entre las muertes y la falta de personal medico pero solo al final de este preiodo, por eso presentamos una correlación baja."
   ]
  },
  {
   "cell_type": "markdown",
   "metadata": {},
   "source": [
    "Consigna 8 ----- Analizando los datos de mi presentación(archivos streamlit) consideraría que el mes de 20 de diciembre a 20 de enero(en caso de ser solo un mes y no un periodo consideraría Enero 2021) del año 2021 fue el mas difil, ya que fue el mes con mayor número de contagios, el segundo mes con mayor cantidad de muertos, el segundo mes con mas camas UCI ocupadas y uno de los periodos mas alto en falta de personal. "
   ]
  },
  {
   "cell_type": "markdown",
   "metadata": {},
   "source": []
  }
 ],
 "metadata": {
  "kernelspec": {
   "display_name": "Python 3.10.2 64-bit",
   "language": "python",
   "name": "python3"
  },
  "language_info": {
   "codemirror_mode": {
    "name": "ipython",
    "version": 3
   },
   "file_extension": ".py",
   "mimetype": "text/x-python",
   "name": "python",
   "nbconvert_exporter": "python",
   "pygments_lexer": "ipython3",
   "version": "3.10.6"
  },
  "orig_nbformat": 4,
  "vscode": {
   "interpreter": {
    "hash": "42ded3ab6752214f575dd974b89dc0f14352bd55d0a2d5cfe6d81e7b5c988482"
   }
  }
 },
 "nbformat": 4,
 "nbformat_minor": 2
}
